{
 "cells": [
  {
   "cell_type": "code",
   "execution_count": null,
   "metadata": {
    "collapsed": true
   },
   "outputs": [],
   "source": [
    "import pandas as pd\n",
    "\n",
    "datelisttemp = pd.date_range('1/1/2014', periods=3, freq='D')\n",
    "s = list(datelisttemp)*3\n",
    "s.sort()\n",
    "df = pd.DataFrame({'BORDER':['GERMANY','FRANCE','ITALY','GERMANY','FRANCE','ITALY','GERMANY','FRANCE','ITALY' ], 'HOUR1':[2 ,2 ,2 ,4 ,4 ,4 ,6 ,6, 6],'HOUR2':[3 ,3 ,3, 5 ,5 ,5, 7, 7, 7], 'HOUR3':[8 ,8 ,8, 12 ,12 ,12, 99, 99, 99]}, index=s)\n",
    "display.display(df)\n",
    "\n",
    "df = df.set_index(['BORDER'], append=True)\n",
    "display.display(df)\n",
    "\n",
    "df.columns.name = 'HOUR'\n",
    "display.display(df)\n",
    "\n",
    "df = df.unstack('BORDER')\n",
    "display.display(df)\n",
    "\n",
    "df = df.stack('HOUR')\n",
    "display.display(df)\n",
    "\n",
    "df = df.reset_index('HOUR')\n",
    "display.display(df)\n",
    "\n",
    "df['HOUR'] = df['HOUR'].str.replace('HOUR', '').astype('int')\n",
    "display.display(df)"
   ]
  }
 ],
 "metadata": {
  "kernelspec": {
   "display_name": "Python 2",
   "language": "python",
   "name": "python2"
  },
  "language_info": {
   "codemirror_mode": {
    "name": "ipython",
    "version": 2
   },
   "file_extension": ".py",
   "mimetype": "text/x-python",
   "name": "python",
   "nbconvert_exporter": "python",
   "pygments_lexer": "ipython2",
   "version": "2.7.10"
  }
 },
 "nbformat": 4,
 "nbformat_minor": 0
}
