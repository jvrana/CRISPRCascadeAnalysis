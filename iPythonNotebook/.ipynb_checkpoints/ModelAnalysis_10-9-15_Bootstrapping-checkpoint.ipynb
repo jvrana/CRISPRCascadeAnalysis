{
 "cells": [
  {
   "cell_type": "markdown",
   "metadata": {},
   "source": [
    "**Experimental Description**: Experimental data was collected for steady state was measured for four strains, each containing four different beta-estradiol inducible cascades. Each of the four strains was induced with eighteen different doses of βe ranging from 0 to 100 μM in a single batch of seventy-two cultures. Cells were diluted every eight hours to prevent culture saturation. Steady-state fluorescence readings were taken after five days when the cultures were in log-phase. \n",
    "\n",
    "**Model Description**: A series of hill-functions B (table X) was used to fit kinetics and dose-response data independently using the same model. For the steady-state model, a βe-to-expression transfer function was created from a βe inducible yeast-enhanced YFP (data not shown). Relative expression of sgRNA was normalized to an equivalent dose of 100 μM βe and multiplied by the parameter u.\n",
    "\n",
    "**Fitting Procedure**: Parameters were optimized using differential evolution (DE) followed by minimization using the Broyden-Fletcher-Goldfarb-Shanno (BFGS) algorithm. One hundred optimal fits were generated using DE/BFGS. Parameter distributions exhibited a non-normal distribution with a single clear central tendency. Parameter mean and uncertainty in the fitting parameters were determined by taking the means and variances of the one hundred parameter sets. \n",
    "\n",
    "**Monte-Carlo Simulations**: Averages and standard deviations of a1-4 and k1-4 were used to determine global parameters for a and k. Parameter uncertainty For model projections and Monte-Carlo simulations parameter distributions were assumed to be normally distributed around the mean. 10,000 simulations were generated from parameter distributions using the model.\n",
    "\n",
    "* Reference for Diff. Evo.: Storn, R and Price, K, Differential Evolution - a Simple and Efficient Heuristic for Global Optimization over Continuous Spaces, Journal of Global Optimization, 1997, 11, 341 - 359. *"
   ]
  },
  {
   "cell_type": "markdown",
   "metadata": {},
   "source": [
    "<h2> Model Equations </h2>\n",
    "$$ m\\in{0,1,...M} $$\n",
    "$$ r_M(β) = u \\frac{A K β^n}{B (1+K β^n)} $$\n",
    "$$ \\dot{r_{m}}(u) = \\frac{a_m}{1+k_m r_{m+1}} - β r_m $$\n",
    "$$ r_0(u) \\propto GFP(u) $$\n",
    "\n",
    "\n",
    "|                    |         $\\frac{dGFP}{dt}$         | $\\frac{dr_1}{dt}$                 | $\\frac{dr_2}{dt}$                 | $\\frac{dr_3}{dt}$                 | $\\frac{dr_4}{dt}$ |\n",
    "|--------------------|:---------------------------------:|-----------------------------------|-----------------------------------|-----------------------------------|-------------------|\n",
    "| **Layer 1 (6059)** | $\\frac{a_0}{1+k_0 r_1^n} - β r_0$ | $u - β r_1$                     |                                   |                                   |                   |\n",
    "| **Layer 2 (6325)** | $\\frac{a_0}{1+k_0 r_1^n} - β r_0$ | $\\frac{a_1}{1+k_1 r_2^n} - β r_1$ | $u - β r_2$                     |                                   |                   |\n",
    "| **Layer 3 (6326)** | $\\frac{a_0}{1+k_0 r_1^n} - β r_0$ | $\\frac{a_1}{1+k_1 r_2^n} - β r_1$ | $\\frac{a_2}{1+k_2 r_3^n} - β r_2$ | $u - β r_3$                     |                   |\n",
    "| **Layer 4 (6327)** | $\\frac{a_0}{1+k_0 r_1^n} - β r_0$ | $\\frac{a_1}{1+k_1 r_2^n} - β r_1$ | $\\frac{a_2}{1+k_2 r_3^n} - β r_2$ | $\\frac{a_3}{1+k_3 r_4^n} - β r_3$ | $u - β r_4$     |\n",
    "\n",
    "\n",
    "| Parameter | Meaning                                              |\n",
    "|-----------|------------------------------------------------------|\n",
    "| a         | promoter strength                                    |\n",
    "| k         | repression binding strength and respression strength |\n",
    "| b         | degradation/dilution of gRNA:dCas9-mxi1              |\n",
    "| u         | maximum induction of pGALZ4:Zev4 promoter            |\n",
    "| n         | hill-coefficient                                     |\n",
    "\n",
    "Parameter Units:\n",
    "\n",
    "a: promoter strength Au/t    (Scaling Factor: multiply by 16000/25)\n",
    "\n",
    "k: repression strength 1/Au^n    (Scaling Factor: divide by 16000^n)\n",
    "\n",
    "b: dilution factor 1/t     (Scaling Factor: divide by 25)\n",
    "\n",
    "u: input strength (the strength of the inducible promoter   Au/t     (Scaling Factor: multiply by 16000/25\n"
   ]
  },
  {
   "cell_type": "code",
   "execution_count": 164,
   "metadata": {
    "collapsed": false
   },
   "outputs": [],
   "source": [
    "################################### Define Filenames ###################################\n",
    "import os\n",
    "#user = \"soslab\"\n",
    "user = \"Justin\"\n",
    "root = os.path.join(\"/Users/\", user, \"Documents/Programming/CRISPRCascadeAnalysis/\")\n",
    "datafolder = os.path.join(root, \"Data\")\n",
    "montecarlofolder = os.path.join(datafolder, \"MonteCarlo\")\n",
    "hyakfolder = os.path.join(root, \"hyakfitting_results\")\n",
    "hyakfolder = root + \"Data/hyakfitting_results/\"\n",
    "\n",
    "combined_filename = os.path.join(hyakfolder, \"bestfits_combined_indexed.csv\")\n",
    "kinetics_filename = os.path.join(hyakfolder, \"bestfits_kinetics_indexed.csv\")\n",
    "steadystate_filename = os.path.join(hyakfolder, \"bestfits_steadystate_indexed.csv\")\n",
    "kinetics_new_filename = os.path.join(hyakfolder, \"bestfits_kinetics_new_indexed.csv\")"
   ]
  },
  {
   "cell_type": "markdown",
   "metadata": {},
   "source": [
    "***\n",
    "\n",
    "<h1> Determine Parameter Uncertainties from Fits </h1>\n",
    "\n",
    "***"
   ]
  },
  {
   "cell_type": "code",
   "execution_count": 3,
   "metadata": {
    "collapsed": false
   },
   "outputs": [
    {
     "data": {
      "text/html": [
       "<div>\n",
       "<table border=\"1\" class=\"dataframe\">\n",
       "  <thead>\n",
       "    <tr style=\"text-align: right;\">\n",
       "      <th></th>\n",
       "      <th></th>\n",
       "      <th>mean</th>\n",
       "      <th>std</th>\n",
       "    </tr>\n",
       "  </thead>\n",
       "  <tbody>\n",
       "    <tr>\n",
       "      <th rowspan=\"4\" valign=\"top\">a</th>\n",
       "      <th>0</th>\n",
       "      <td>1.019817</td>\n",
       "      <td>0.003054</td>\n",
       "    </tr>\n",
       "    <tr>\n",
       "      <th>1</th>\n",
       "      <td>0.444067</td>\n",
       "      <td>0.109886</td>\n",
       "    </tr>\n",
       "    <tr>\n",
       "      <th>2</th>\n",
       "      <td>0.599496</td>\n",
       "      <td>0.147607</td>\n",
       "    </tr>\n",
       "    <tr>\n",
       "      <th>3</th>\n",
       "      <td>0.583732</td>\n",
       "      <td>0.143713</td>\n",
       "    </tr>\n",
       "    <tr>\n",
       "      <th rowspan=\"4\" valign=\"top\">k</th>\n",
       "      <th>0</th>\n",
       "      <td>0.805262</td>\n",
       "      <td>0.281558</td>\n",
       "    </tr>\n",
       "    <tr>\n",
       "      <th>1</th>\n",
       "      <td>0.495397</td>\n",
       "      <td>0.173047</td>\n",
       "    </tr>\n",
       "    <tr>\n",
       "      <th>2</th>\n",
       "      <td>0.528830</td>\n",
       "      <td>0.185329</td>\n",
       "    </tr>\n",
       "    <tr>\n",
       "      <th>3</th>\n",
       "      <td>0.539853</td>\n",
       "      <td>0.190868</td>\n",
       "    </tr>\n",
       "    <tr>\n",
       "      <th rowspan=\"2\" valign=\"top\">b</th>\n",
       "      <th>0</th>\n",
       "      <td>0.095336</td>\n",
       "      <td>0.000249</td>\n",
       "    </tr>\n",
       "    <tr>\n",
       "      <th>1</th>\n",
       "      <td>0.087488</td>\n",
       "      <td>0.000219</td>\n",
       "    </tr>\n",
       "    <tr>\n",
       "      <th>u</th>\n",
       "      <th>0</th>\n",
       "      <td>0.413750</td>\n",
       "      <td>0.101783</td>\n",
       "    </tr>\n",
       "    <tr>\n",
       "      <th>n</th>\n",
       "      <th>0</th>\n",
       "      <td>1.511766</td>\n",
       "      <td>0.005585</td>\n",
       "    </tr>\n",
       "  </tbody>\n",
       "</table>\n",
       "</div>"
      ],
      "text/plain": [
       "         mean       std\n",
       "a 0  1.019817  0.003054\n",
       "  1  0.444067  0.109886\n",
       "  2  0.599496  0.147607\n",
       "  3  0.583732  0.143713\n",
       "k 0  0.805262  0.281558\n",
       "  1  0.495397  0.173047\n",
       "  2  0.528830  0.185329\n",
       "  3  0.539853  0.190868\n",
       "b 0  0.095336  0.000249\n",
       "  1  0.087488  0.000219\n",
       "u 0  0.413750  0.101783\n",
       "n 0  1.511766  0.005585"
      ]
     },
     "execution_count": 3,
     "metadata": {},
     "output_type": "execute_result"
    }
   ],
   "source": [
    "import os\n",
    "import pandas as pd\n",
    "from IPython import display\n",
    "import scipy\n",
    "import pylab as plt\n",
    "import numpy as np\n",
    "%matplotlib inline\n",
    "\n",
    "def getParamUncertainties(filename, chooseb=0):\n",
    "    pds = pd.read_csv(filename, header=[0,1], index_col=0)\n",
    "    pds.drop(pds.columns[12:15], axis=1, inplace=True)\n",
    "    \n",
    "    pds['weight'] = pds['score'].apply(lambda x: (1.0/x)**1)\n",
    "    #CIs = bootstrap.ci(data=pds, statfunction=scipy.mean)\n",
    "    #print CIs\n",
    "    average = pds.apply(np.mean)\n",
    "    std = pds.apply(np.std)\n",
    "    a_mean = np.average(average['a'], weights=std['a'])\n",
    "    a_var = np.average((average['a'] - a_mean)**2, weights=std['a'])\n",
    "    a_std = np.sqrt(a_var)\n",
    "    \n",
    "    k_mean = np.average(average['k'], weights=std['k'])\n",
    "    k_var = np.average((average['k'] - k_mean)**2, weights=std['k'])\n",
    "    k_std = np.sqrt(k_var)\n",
    "    \n",
    "    b_mean = average['b'][chooseb]\n",
    "    b_std = std['b'][chooseb]\n",
    "    u_mean = average['u'][0]\n",
    "    u_std = std['u'][0]\n",
    "    n_mean = average['n']\n",
    "    n_std = std['n']\n",
    "    \n",
    "    labels = list('akbun')\n",
    "    means = a_mean, k_mean, b_mean, u_mean, n_mean\n",
    "    sd = [a_std, k_std, b_std, u_std, n_std]\n",
    "    means = [float(x) for x in means]\n",
    "    sd = [float(x) for x in sd]\n",
    "    globalparams = pd.DataFrame([means, sd], columns=labels, index=[\"mean\", \"std\"]).transpose()\n",
    "    modelparams = pd.DataFrame([average, std], index=[\"mean\", \"std\"]).transpose()\n",
    "    modelparams.drop('weight', level=0, axis=0, inplace=True)\n",
    "    modelparams.drop('score', level=0, axis=0, inplace=True)\n",
    "    return modelparams, globalparams\n",
    "\n",
    "m, g = getParamUncertainties(combined_filename)\n",
    "m"
   ]
  },
  {
   "cell_type": "markdown",
   "metadata": {},
   "source": [
    "***\n",
    "\n",
    "<h1> Modeling Definitions </h1>\n",
    "\n",
    "***"
   ]
  },
  {
   "cell_type": "code",
   "execution_count": 129,
   "metadata": {
    "collapsed": false
   },
   "outputs": [],
   "source": [
    "import numpy as np\n",
    "import pandas as pd\n",
    "from scipy import integrate\n",
    "from scipy import optimize\n",
    "import pylab as plt\n",
    "import pandas as pd\n",
    "%matplotlib inline\n",
    "\n",
    "\n",
    "def cascade_kinetics(t, r, a, k, b, u, n):\n",
    "    layer_depth = len(r) - 1\n",
    "    dR = [0] * len(r)\n",
    "    dR[layer_depth] = u - b * r[layer_depth]\n",
    "    for l in range(layer_depth)[::-1]:\n",
    "        dR[l] = a[l] / (1+k[l] * r[l+1] ** n) - b * r[l]\n",
    "    return dR\n",
    "\n",
    "def cascade_ss(layer_depth, a, k, b, u, n):\n",
    "    assert len(a) == len(k)\n",
    "    assert len(a) >= layer_depth\n",
    "    R = [0]*(layer_depth+1)\n",
    "    R[layer_depth] = u/b\n",
    "    for l in range(layer_depth)[::-1]:\n",
    "        R[l] = a[l] / ((1+k[l] * R[l+1] ** n)*b)\n",
    "    return np.array(R)\n",
    "\n",
    "def tfxn(inducer_at_max, inducer):\n",
    "    AB = 542.8745566\n",
    "    K = 0.269635359\n",
    "    n = 1.238933919\n",
    "    def fxn(u):\n",
    "        return (AB*K*u**n)/(1+K*u**n)\n",
    "    rel_induction = fxn(inducer)/fxn(inducer_at_max)\n",
    "    return rel_induction\n",
    "\n",
    "t_final = 500.\n",
    "dt = 1.0\n",
    "\n",
    "\n",
    "def integrateSystem(numlayers, a, k, b, u, n):\n",
    "    ss = cascade_ss(numlayers, a, k, b, 0.0, n)\n",
    "    r1 = integrate.ode(cascade_kinetics)\n",
    "    r1.set_initial_value(ss).set_f_params(a, k, b, u, n)\n",
    "    data1 = []\n",
    "    while r1.successful() and r1.t < t_final:\n",
    "        r1.integrate(r1.t+dt)\n",
    "        data1.append( [r1.t] + [float(i) for i in list(r1.y)] )\n",
    "    return data1\n",
    "\n",
    "\n",
    "def ssModel(i_array, a, k, b, u, n):\n",
    "    assert len(a) == len(k)\n",
    "    num_layers = len(a)+1\n",
    "    dose = pd.DataFrame(index = i_array, columns = list(range(1,num_layers+1)) + ['rel exp'])\n",
    "    for i in i_array:\n",
    "        rel_exp = tfxn(100.0, i)\n",
    "        rel_u = rel_exp * u\n",
    "        dose.loc[i] = [cascade_ss(l, a, k, b, rel_u, n)[0] for l in range(num_layers)] + [rel_exp]\n",
    "    return dose\n",
    "\n",
    "\n",
    "def kineticsModel(a, k, b, u, n):\n",
    "    assert len(a) == len(k)\n",
    "    num_layers = len(a)+1\n",
    "    layers = {}\n",
    "    time = []\n",
    "    for l in range(num_layers):\n",
    "        system = integrateSystem(l, a, k, b, u, n)\n",
    "        unzipped = zip(*system)\n",
    "        layers[l] = unzipped[1]\n",
    "        time = unzipped[0]\n",
    "    return pd.DataFrame(layers, index=time)\n",
    "\n",
    "\n",
    "def getTimeToHalfMaximum(trajectory, init, ss, ds):\n",
    "    half = ss - init\n",
    "    half = half/2.0\n",
    "    half = ss - half\n",
    "    ttss = []\n",
    "    g = np.abs(trajectory - half)\n",
    "    ttss = g.apply(np.argmin)\n",
    "    return ttss\n",
    "\n",
    "def getValue(t, df):\n",
    "    i = np.abs(df.index - t).argmin()\n",
    "    return df.iloc[i]\n",
    "\n",
    "def cascadesystem_steadystate_simple(numlayers, a, k, b, u, n):\n",
    "    \n",
    "    Y = []\n",
    "    Y.append(u/b)\n",
    "    for i in range(numlayers):\n",
    "        Y.append((1.*a/(1+k*Y[i]**n))/b)\n",
    "    return np.array(Y)\n",
    "\n",
    "def dynamic_range_plot(numlayers, a, k, b, u, n):\n",
    "    params = [a,k,b,u,n]\n",
    "    ss = cascadesystem_steadystate_simple(numlayers, *params)\n",
    "    params = [a, k, b, 0.0, n]\n",
    "    ss_0 = cascadesystem_steadystate_simple(numlayers, *params)\n",
    "    #plt.yscale('log')\n",
    "    #plt.plot(np.log10(np.abs(ss-ss_0)))\n",
    "    dr = []\n",
    "    for ss_value, ss_0_value in zip(ss, ss_0):\n",
    "        values = [ss_value, ss_0_value]\n",
    "        dr.append(max(values)/min(values))\n",
    "    #return np.abs(ss-ss_0)\n",
    "    metric = 20.0*np.log10(dr)\n",
    "    #metric = np.abs(ss-ss_0)\n",
    "    plt.plot(metric)\n",
    "    return metric"
   ]
  },
  {
   "cell_type": "markdown",
   "metadata": {},
   "source": [
    "\n",
    "***\n",
    "\n",
    "<h1> Monte Carlo Simulations </h1>\n",
    "\n",
    "***"
   ]
  },
  {
   "cell_type": "markdown",
   "metadata": {},
   "source": [
    "<h3> Bootstrapped Monte Carlo Simulation </h3>"
   ]
  },
  {
   "cell_type": "code",
   "execution_count": null,
   "metadata": {
    "collapsed": false
   },
   "outputs": [],
   "source": [
    "df = pd.read_csv(os.path.join(montecarlofolder, \"uniform_distribution_bestfits_combined_indexed.csv\"))\n",
    "bins = np.linspace(df.n.min(), df.n.max(), 10)\n",
    "groups = df.groupby(pd.cut(df.a, bins))\n",
    "groups"
   ]
  },
  {
   "cell_type": "markdown",
   "metadata": {},
   "source": [
    "<h3> Boot Strapped Metric Calculation </h3>\n",
    "\n",
    "** Need to do weighted averages of slopes **"
   ]
  },
  {
   "cell_type": "code",
   "execution_count": 130,
   "metadata": {
    "collapsed": false,
    "scrolled": true
   },
   "outputs": [
    {
     "data": {
      "text/plain": [
       "'Sample Number 1846.0 out of 17375.0'"
      ]
     },
     "metadata": {},
     "output_type": "display_data"
    },
    {
     "data": {
      "text/plain": [
       "'Group: 3.431, 3.5'"
      ]
     },
     "metadata": {},
     "output_type": "display_data"
    },
    {
     "ename": "KeyboardInterrupt",
     "evalue": "",
     "output_type": "error",
     "traceback": [
      "\u001b[0;31m---------------------------------------------------------------------------\u001b[0m",
      "\u001b[0;31mKeyboardInterrupt\u001b[0m                         Traceback (most recent call last)",
      "\u001b[0;32m<ipython-input-130-34e795f37b4b>\u001b[0m in \u001b[0;36m<module>\u001b[0;34m()\u001b[0m\n\u001b[1;32m     37\u001b[0m             \u001b[0mdisplay\u001b[0m\u001b[0;34m.\u001b[0m\u001b[0mdisplay\u001b[0m\u001b[0;34m(\u001b[0m\u001b[0;34m\"Sample Number %s out of %s\"\u001b[0m \u001b[0;34m%\u001b[0m \u001b[0;34m(\u001b[0m\u001b[0mstr\u001b[0m\u001b[0;34m(\u001b[0m\u001b[0mnm\u001b[0m\u001b[0;34m)\u001b[0m\u001b[0;34m,\u001b[0m \u001b[0mstr\u001b[0m\u001b[0;34m(\u001b[0m\u001b[0mh\u001b[0m\u001b[0;34m[\u001b[0m\u001b[0;34m'sample'\u001b[0m\u001b[0;34m]\u001b[0m\u001b[0;34m.\u001b[0m\u001b[0mmax\u001b[0m\u001b[0;34m(\u001b[0m\u001b[0;34m)\u001b[0m\u001b[0;34m)\u001b[0m\u001b[0;34m)\u001b[0m\u001b[0;34m)\u001b[0m\u001b[0;34m\u001b[0m\u001b[0m\n\u001b[1;32m     38\u001b[0m             \u001b[0mdisplay\u001b[0m\u001b[0;34m.\u001b[0m\u001b[0mdisplay\u001b[0m\u001b[0;34m(\u001b[0m\u001b[0;34m\"Group: %s\"\u001b[0m \u001b[0;34m%\u001b[0m \u001b[0mname\u001b[0m\u001b[0;34m)\u001b[0m\u001b[0;34m\u001b[0m\u001b[0m\n\u001b[0;32m---> 39\u001b[0;31m             \u001b[0mmod\u001b[0m \u001b[0;34m=\u001b[0m \u001b[0msmf\u001b[0m\u001b[0;34m.\u001b[0m\u001b[0mquantreg\u001b[0m\u001b[0;34m(\u001b[0m\u001b[0;34m'dr_log ~ layer'\u001b[0m\u001b[0;34m,\u001b[0m \u001b[0mg\u001b[0m\u001b[0;34m)\u001b[0m\u001b[0;34m\u001b[0m\u001b[0m\n\u001b[0m\u001b[1;32m     40\u001b[0m             \u001b[0mres\u001b[0m \u001b[0;34m=\u001b[0m \u001b[0mmod\u001b[0m\u001b[0;34m.\u001b[0m\u001b[0mfit\u001b[0m\u001b[0;34m(\u001b[0m\u001b[0mq\u001b[0m\u001b[0;34m=\u001b[0m\u001b[0;36m.5\u001b[0m\u001b[0;34m)\u001b[0m\u001b[0;34m\u001b[0m\u001b[0m\n\u001b[1;32m     41\u001b[0m             \u001b[0mintercept\u001b[0m\u001b[0;34m,\u001b[0m \u001b[0mslope\u001b[0m \u001b[0;34m=\u001b[0m \u001b[0mres\u001b[0m\u001b[0;34m.\u001b[0m\u001b[0mparams\u001b[0m\u001b[0;34m\u001b[0m\u001b[0m\n",
      "\u001b[0;32m/Users/Justin/anaconda/lib/python2.7/site-packages/statsmodels/base/model.pyc\u001b[0m in \u001b[0;36mfrom_formula\u001b[0;34m(cls, formula, data, subset, *args, **kwargs)\u001b[0m\n\u001b[1;32m    145\u001b[0m         (endog, exog), missing_idx = handle_formula_data(data, None, formula,\n\u001b[1;32m    146\u001b[0m                                                          \u001b[0mdepth\u001b[0m\u001b[0;34m=\u001b[0m\u001b[0meval_env\u001b[0m\u001b[0;34m,\u001b[0m\u001b[0;34m\u001b[0m\u001b[0m\n\u001b[0;32m--> 147\u001b[0;31m                                                          missing=missing)\n\u001b[0m\u001b[1;32m    148\u001b[0m         kwargs.update({'missing_idx': missing_idx,\n\u001b[1;32m    149\u001b[0m                        'missing': missing})\n",
      "\u001b[0;32m/Users/Justin/anaconda/lib/python2.7/site-packages/statsmodels/formula/formulatools.pyc\u001b[0m in \u001b[0;36mhandle_formula_data\u001b[0;34m(Y, X, formula, depth, missing)\u001b[0m\n\u001b[1;32m     63\u001b[0m         \u001b[0;32mif\u001b[0m \u001b[0mdata_util\u001b[0m\u001b[0;34m.\u001b[0m\u001b[0m_is_using_pandas\u001b[0m\u001b[0;34m(\u001b[0m\u001b[0mY\u001b[0m\u001b[0;34m,\u001b[0m \u001b[0mNone\u001b[0m\u001b[0;34m)\u001b[0m\u001b[0;34m:\u001b[0m\u001b[0;34m\u001b[0m\u001b[0m\n\u001b[1;32m     64\u001b[0m             result = dmatrices(formula, Y, depth, return_type='dataframe',\n\u001b[0;32m---> 65\u001b[0;31m                                NA_action=na_action)\n\u001b[0m\u001b[1;32m     66\u001b[0m         \u001b[0;32melse\u001b[0m\u001b[0;34m:\u001b[0m\u001b[0;34m\u001b[0m\u001b[0m\n\u001b[1;32m     67\u001b[0m             result = dmatrices(formula, Y, depth, return_type='dataframe',\n",
      "\u001b[0;32m/Users/Justin/anaconda/lib/python2.7/site-packages/patsy/highlevel.pyc\u001b[0m in \u001b[0;36mdmatrices\u001b[0;34m(formula_like, data, eval_env, NA_action, return_type)\u001b[0m\n\u001b[1;32m    295\u001b[0m     \u001b[0meval_env\u001b[0m \u001b[0;34m=\u001b[0m \u001b[0mEvalEnvironment\u001b[0m\u001b[0;34m.\u001b[0m\u001b[0mcapture\u001b[0m\u001b[0;34m(\u001b[0m\u001b[0meval_env\u001b[0m\u001b[0;34m,\u001b[0m \u001b[0mreference\u001b[0m\u001b[0;34m=\u001b[0m\u001b[0;36m1\u001b[0m\u001b[0;34m)\u001b[0m\u001b[0;34m\u001b[0m\u001b[0m\n\u001b[1;32m    296\u001b[0m     (lhs, rhs) = _do_highlevel_design(formula_like, data, eval_env,\n\u001b[0;32m--> 297\u001b[0;31m                                       NA_action, return_type)\n\u001b[0m\u001b[1;32m    298\u001b[0m     \u001b[0;32mif\u001b[0m \u001b[0mlhs\u001b[0m\u001b[0;34m.\u001b[0m\u001b[0mshape\u001b[0m\u001b[0;34m[\u001b[0m\u001b[0;36m1\u001b[0m\u001b[0;34m]\u001b[0m \u001b[0;34m==\u001b[0m \u001b[0;36m0\u001b[0m\u001b[0;34m:\u001b[0m\u001b[0;34m\u001b[0m\u001b[0m\n\u001b[1;32m    299\u001b[0m         \u001b[0;32mraise\u001b[0m \u001b[0mPatsyError\u001b[0m\u001b[0;34m(\u001b[0m\u001b[0;34m\"model is missing required outcome variables\"\u001b[0m\u001b[0;34m)\u001b[0m\u001b[0;34m\u001b[0m\u001b[0m\n",
      "\u001b[0;32m/Users/Justin/anaconda/lib/python2.7/site-packages/patsy/highlevel.pyc\u001b[0m in \u001b[0;36m_do_highlevel_design\u001b[0;34m(formula_like, data, eval_env, NA_action, return_type)\u001b[0m\n\u001b[1;32m    154\u001b[0m         return build_design_matrices(builders, data,\n\u001b[1;32m    155\u001b[0m                                      \u001b[0mNA_action\u001b[0m\u001b[0;34m=\u001b[0m\u001b[0mNA_action\u001b[0m\u001b[0;34m,\u001b[0m\u001b[0;34m\u001b[0m\u001b[0m\n\u001b[0;32m--> 156\u001b[0;31m                                      return_type=return_type)\n\u001b[0m\u001b[1;32m    157\u001b[0m     \u001b[0;32melse\u001b[0m\u001b[0;34m:\u001b[0m\u001b[0;34m\u001b[0m\u001b[0m\n\u001b[1;32m    158\u001b[0m         \u001b[0;31m# No builders, but maybe we can still get matrices\u001b[0m\u001b[0;34m\u001b[0m\u001b[0;34m\u001b[0m\u001b[0m\n",
      "\u001b[0;32m/Users/Justin/anaconda/lib/python2.7/site-packages/patsy/build.pyc\u001b[0m in \u001b[0;36mbuild_design_matrices\u001b[0;34m(builders, data, NA_action, return_type, dtype)\u001b[0m\n\u001b[1;32m    945\u001b[0m         \u001b[0;32mfor\u001b[0m \u001b[0mevaluator\u001b[0m \u001b[0;32min\u001b[0m \u001b[0mbuilder\u001b[0m\u001b[0;34m.\u001b[0m\u001b[0m_evaluators\u001b[0m\u001b[0;34m:\u001b[0m\u001b[0;34m\u001b[0m\u001b[0m\n\u001b[1;32m    946\u001b[0m             \u001b[0;32mif\u001b[0m \u001b[0mevaluator\u001b[0m \u001b[0;32mnot\u001b[0m \u001b[0;32min\u001b[0m \u001b[0mevaluator_to_values\u001b[0m\u001b[0;34m:\u001b[0m\u001b[0;34m\u001b[0m\u001b[0m\n\u001b[0;32m--> 947\u001b[0;31m                 \u001b[0mvalue\u001b[0m\u001b[0;34m,\u001b[0m \u001b[0mis_NA\u001b[0m \u001b[0;34m=\u001b[0m \u001b[0mevaluator\u001b[0m\u001b[0;34m.\u001b[0m\u001b[0meval\u001b[0m\u001b[0;34m(\u001b[0m\u001b[0mdata\u001b[0m\u001b[0;34m,\u001b[0m \u001b[0mNA_action\u001b[0m\u001b[0;34m)\u001b[0m\u001b[0;34m\u001b[0m\u001b[0m\n\u001b[0m\u001b[1;32m    948\u001b[0m                 \u001b[0mevaluator_to_isNAs\u001b[0m\u001b[0;34m[\u001b[0m\u001b[0mevaluator\u001b[0m\u001b[0;34m]\u001b[0m \u001b[0;34m=\u001b[0m \u001b[0mis_NA\u001b[0m\u001b[0;34m\u001b[0m\u001b[0m\n\u001b[1;32m    949\u001b[0m                 \u001b[0;31m# value may now be a Series, DataFrame, or ndarray\u001b[0m\u001b[0;34m\u001b[0m\u001b[0;34m\u001b[0m\u001b[0m\n",
      "\u001b[0;32m/Users/Justin/anaconda/lib/python2.7/site-packages/patsy/build.pyc\u001b[0m in \u001b[0;36meval\u001b[0;34m(self, data, NA_action)\u001b[0m\n\u001b[1;32m     70\u001b[0m     \u001b[0;32mdef\u001b[0m \u001b[0meval\u001b[0m\u001b[0;34m(\u001b[0m\u001b[0mself\u001b[0m\u001b[0;34m,\u001b[0m \u001b[0mdata\u001b[0m\u001b[0;34m,\u001b[0m \u001b[0mNA_action\u001b[0m\u001b[0;34m)\u001b[0m\u001b[0;34m:\u001b[0m\u001b[0;34m\u001b[0m\u001b[0m\n\u001b[1;32m     71\u001b[0m         \u001b[0mresult\u001b[0m \u001b[0;34m=\u001b[0m \u001b[0mself\u001b[0m\u001b[0;34m.\u001b[0m\u001b[0mfactor\u001b[0m\u001b[0;34m.\u001b[0m\u001b[0meval\u001b[0m\u001b[0;34m(\u001b[0m\u001b[0mself\u001b[0m\u001b[0;34m.\u001b[0m\u001b[0m_state\u001b[0m\u001b[0;34m,\u001b[0m \u001b[0mdata\u001b[0m\u001b[0;34m)\u001b[0m\u001b[0;34m\u001b[0m\u001b[0m\n\u001b[0;32m---> 72\u001b[0;31m         \u001b[0mresult\u001b[0m \u001b[0;34m=\u001b[0m \u001b[0matleast_2d_column_default\u001b[0m\u001b[0;34m(\u001b[0m\u001b[0mresult\u001b[0m\u001b[0;34m,\u001b[0m \u001b[0mpreserve_pandas\u001b[0m\u001b[0;34m=\u001b[0m\u001b[0mTrue\u001b[0m\u001b[0;34m)\u001b[0m\u001b[0;34m\u001b[0m\u001b[0m\n\u001b[0m\u001b[1;32m     73\u001b[0m         \u001b[0m_max_allowed_dim\u001b[0m\u001b[0;34m(\u001b[0m\u001b[0;36m2\u001b[0m\u001b[0;34m,\u001b[0m \u001b[0mresult\u001b[0m\u001b[0;34m,\u001b[0m \u001b[0mself\u001b[0m\u001b[0;34m.\u001b[0m\u001b[0mfactor\u001b[0m\u001b[0;34m)\u001b[0m\u001b[0;34m\u001b[0m\u001b[0m\n\u001b[1;32m     74\u001b[0m         \u001b[0;32mif\u001b[0m \u001b[0mresult\u001b[0m\u001b[0;34m.\u001b[0m\u001b[0mshape\u001b[0m\u001b[0;34m[\u001b[0m\u001b[0;36m1\u001b[0m\u001b[0;34m]\u001b[0m \u001b[0;34m!=\u001b[0m \u001b[0mself\u001b[0m\u001b[0;34m.\u001b[0m\u001b[0m_expected_columns\u001b[0m\u001b[0;34m:\u001b[0m\u001b[0;34m\u001b[0m\u001b[0m\n",
      "\u001b[0;32m/Users/Justin/anaconda/lib/python2.7/site-packages/patsy/util.pyc\u001b[0m in \u001b[0;36matleast_2d_column_default\u001b[0;34m(a, preserve_pandas)\u001b[0m\n\u001b[1;32m    126\u001b[0m     \u001b[0;32mif\u001b[0m \u001b[0mpreserve_pandas\u001b[0m \u001b[0;32mand\u001b[0m \u001b[0mhave_pandas\u001b[0m\u001b[0;34m:\u001b[0m\u001b[0;34m\u001b[0m\u001b[0m\n\u001b[1;32m    127\u001b[0m         \u001b[0;32mif\u001b[0m \u001b[0misinstance\u001b[0m\u001b[0;34m(\u001b[0m\u001b[0ma\u001b[0m\u001b[0;34m,\u001b[0m \u001b[0mpandas\u001b[0m\u001b[0;34m.\u001b[0m\u001b[0mSeries\u001b[0m\u001b[0;34m)\u001b[0m\u001b[0;34m:\u001b[0m\u001b[0;34m\u001b[0m\u001b[0m\n\u001b[0;32m--> 128\u001b[0;31m             \u001b[0;32mreturn\u001b[0m \u001b[0mpandas\u001b[0m\u001b[0;34m.\u001b[0m\u001b[0mDataFrame\u001b[0m\u001b[0;34m(\u001b[0m\u001b[0ma\u001b[0m\u001b[0;34m)\u001b[0m\u001b[0;34m\u001b[0m\u001b[0m\n\u001b[0m\u001b[1;32m    129\u001b[0m         \u001b[0;32melif\u001b[0m \u001b[0misinstance\u001b[0m\u001b[0;34m(\u001b[0m\u001b[0ma\u001b[0m\u001b[0;34m,\u001b[0m \u001b[0mpandas\u001b[0m\u001b[0;34m.\u001b[0m\u001b[0mDataFrame\u001b[0m\u001b[0;34m)\u001b[0m\u001b[0;34m:\u001b[0m\u001b[0;34m\u001b[0m\u001b[0m\n\u001b[1;32m    130\u001b[0m             \u001b[0;32mreturn\u001b[0m \u001b[0ma\u001b[0m\u001b[0;34m\u001b[0m\u001b[0m\n",
      "\u001b[0;32m/Users/Justin/anaconda/lib/python2.7/site-packages/pandas/core/frame.pyc\u001b[0m in \u001b[0;36m__init__\u001b[0;34m(self, data, index, columns, dtype, copy)\u001b[0m\n\u001b[1;32m    240\u001b[0m             \u001b[0;32melif\u001b[0m \u001b[0mgetattr\u001b[0m\u001b[0;34m(\u001b[0m\u001b[0mdata\u001b[0m\u001b[0;34m,\u001b[0m \u001b[0;34m'name'\u001b[0m\u001b[0;34m,\u001b[0m \u001b[0mNone\u001b[0m\u001b[0;34m)\u001b[0m\u001b[0;34m:\u001b[0m\u001b[0;34m\u001b[0m\u001b[0m\n\u001b[1;32m    241\u001b[0m                 mgr = self._init_dict({data.name: data}, index, columns,\n\u001b[0;32m--> 242\u001b[0;31m                                       dtype=dtype)\n\u001b[0m\u001b[1;32m    243\u001b[0m             \u001b[0;32melse\u001b[0m\u001b[0;34m:\u001b[0m\u001b[0;34m\u001b[0m\u001b[0m\n\u001b[1;32m    244\u001b[0m                 mgr = self._init_ndarray(data, index, columns, dtype=dtype,\n",
      "\u001b[0;32m/Users/Justin/anaconda/lib/python2.7/site-packages/pandas/core/frame.pyc\u001b[0m in \u001b[0;36m_init_dict\u001b[0;34m(self, data, index, columns, dtype)\u001b[0m\n\u001b[1;32m    339\u001b[0m \u001b[0;34m\u001b[0m\u001b[0m\n\u001b[1;32m    340\u001b[0m         return _arrays_to_mgr(arrays, data_names, index, columns,\n\u001b[0;32m--> 341\u001b[0;31m                               dtype=dtype)\n\u001b[0m\u001b[1;32m    342\u001b[0m \u001b[0;34m\u001b[0m\u001b[0m\n\u001b[1;32m    343\u001b[0m     def _init_ndarray(self, values, index, columns, dtype=None,\n",
      "\u001b[0;32m/Users/Justin/anaconda/lib/python2.7/site-packages/pandas/core/frame.pyc\u001b[0m in \u001b[0;36m_arrays_to_mgr\u001b[0;34m(arrays, arr_names, index, columns, dtype)\u001b[0m\n\u001b[1;32m   4806\u001b[0m     \u001b[0maxes\u001b[0m \u001b[0;34m=\u001b[0m \u001b[0;34m[\u001b[0m\u001b[0m_ensure_index\u001b[0m\u001b[0;34m(\u001b[0m\u001b[0mcolumns\u001b[0m\u001b[0;34m)\u001b[0m\u001b[0;34m,\u001b[0m \u001b[0m_ensure_index\u001b[0m\u001b[0;34m(\u001b[0m\u001b[0mindex\u001b[0m\u001b[0;34m)\u001b[0m\u001b[0;34m]\u001b[0m\u001b[0;34m\u001b[0m\u001b[0m\n\u001b[1;32m   4807\u001b[0m \u001b[0;34m\u001b[0m\u001b[0m\n\u001b[0;32m-> 4808\u001b[0;31m     \u001b[0;32mreturn\u001b[0m \u001b[0mcreate_block_manager_from_arrays\u001b[0m\u001b[0;34m(\u001b[0m\u001b[0marrays\u001b[0m\u001b[0;34m,\u001b[0m \u001b[0marr_names\u001b[0m\u001b[0;34m,\u001b[0m \u001b[0maxes\u001b[0m\u001b[0;34m)\u001b[0m\u001b[0;34m\u001b[0m\u001b[0m\n\u001b[0m\u001b[1;32m   4809\u001b[0m \u001b[0;34m\u001b[0m\u001b[0m\n\u001b[1;32m   4810\u001b[0m \u001b[0;34m\u001b[0m\u001b[0m\n",
      "\u001b[0;32m/Users/Justin/anaconda/lib/python2.7/site-packages/pandas/core/internals.pyc\u001b[0m in \u001b[0;36mcreate_block_manager_from_arrays\u001b[0;34m(arrays, names, axes)\u001b[0m\n\u001b[1;32m   3553\u001b[0m \u001b[0;32mdef\u001b[0m \u001b[0mcreate_block_manager_from_arrays\u001b[0m\u001b[0;34m(\u001b[0m\u001b[0marrays\u001b[0m\u001b[0;34m,\u001b[0m \u001b[0mnames\u001b[0m\u001b[0;34m,\u001b[0m \u001b[0maxes\u001b[0m\u001b[0;34m)\u001b[0m\u001b[0;34m:\u001b[0m\u001b[0;34m\u001b[0m\u001b[0m\n\u001b[1;32m   3554\u001b[0m     \u001b[0;32mtry\u001b[0m\u001b[0;34m:\u001b[0m\u001b[0;34m\u001b[0m\u001b[0m\n\u001b[0;32m-> 3555\u001b[0;31m         \u001b[0mblocks\u001b[0m \u001b[0;34m=\u001b[0m \u001b[0mform_blocks\u001b[0m\u001b[0;34m(\u001b[0m\u001b[0marrays\u001b[0m\u001b[0;34m,\u001b[0m \u001b[0mnames\u001b[0m\u001b[0;34m,\u001b[0m \u001b[0maxes\u001b[0m\u001b[0;34m)\u001b[0m\u001b[0;34m\u001b[0m\u001b[0m\n\u001b[0m\u001b[1;32m   3556\u001b[0m         \u001b[0mmgr\u001b[0m \u001b[0;34m=\u001b[0m \u001b[0mBlockManager\u001b[0m\u001b[0;34m(\u001b[0m\u001b[0mblocks\u001b[0m\u001b[0;34m,\u001b[0m \u001b[0maxes\u001b[0m\u001b[0;34m)\u001b[0m\u001b[0;34m\u001b[0m\u001b[0m\n\u001b[1;32m   3557\u001b[0m         \u001b[0mmgr\u001b[0m\u001b[0;34m.\u001b[0m\u001b[0m_consolidate_inplace\u001b[0m\u001b[0;34m(\u001b[0m\u001b[0;34m)\u001b[0m\u001b[0;34m\u001b[0m\u001b[0m\n",
      "\u001b[0;32m/Users/Justin/anaconda/lib/python2.7/site-packages/pandas/core/internals.pyc\u001b[0m in \u001b[0;36mform_blocks\u001b[0;34m(arrays, names, axes)\u001b[0m\n\u001b[1;32m   3619\u001b[0m     \u001b[0mblocks\u001b[0m \u001b[0;34m=\u001b[0m \u001b[0;34m[\u001b[0m\u001b[0;34m]\u001b[0m\u001b[0;34m\u001b[0m\u001b[0m\n\u001b[1;32m   3620\u001b[0m     \u001b[0;32mif\u001b[0m \u001b[0mlen\u001b[0m\u001b[0;34m(\u001b[0m\u001b[0mfloat_items\u001b[0m\u001b[0;34m)\u001b[0m\u001b[0;34m:\u001b[0m\u001b[0;34m\u001b[0m\u001b[0m\n\u001b[0;32m-> 3621\u001b[0;31m         \u001b[0mfloat_blocks\u001b[0m \u001b[0;34m=\u001b[0m \u001b[0m_multi_blockify\u001b[0m\u001b[0;34m(\u001b[0m\u001b[0mfloat_items\u001b[0m\u001b[0;34m)\u001b[0m\u001b[0;34m\u001b[0m\u001b[0m\n\u001b[0m\u001b[1;32m   3622\u001b[0m         \u001b[0mblocks\u001b[0m\u001b[0;34m.\u001b[0m\u001b[0mextend\u001b[0m\u001b[0;34m(\u001b[0m\u001b[0mfloat_blocks\u001b[0m\u001b[0;34m)\u001b[0m\u001b[0;34m\u001b[0m\u001b[0m\n\u001b[1;32m   3623\u001b[0m \u001b[0;34m\u001b[0m\u001b[0m\n",
      "\u001b[0;32m/Users/Justin/anaconda/lib/python2.7/site-packages/pandas/core/internals.pyc\u001b[0m in \u001b[0;36m_multi_blockify\u001b[0;34m(tuples, dtype)\u001b[0m\n\u001b[1;32m   3692\u001b[0m \u001b[0;34m\u001b[0m\u001b[0m\n\u001b[1;32m   3693\u001b[0m     \u001b[0mnew_blocks\u001b[0m \u001b[0;34m=\u001b[0m \u001b[0;34m[\u001b[0m\u001b[0;34m]\u001b[0m\u001b[0;34m\u001b[0m\u001b[0m\n\u001b[0;32m-> 3694\u001b[0;31m     \u001b[0;32mfor\u001b[0m \u001b[0mdtype\u001b[0m\u001b[0;34m,\u001b[0m \u001b[0mtup_block\u001b[0m \u001b[0;32min\u001b[0m \u001b[0mgrouper\u001b[0m\u001b[0;34m:\u001b[0m\u001b[0;34m\u001b[0m\u001b[0m\n\u001b[0m\u001b[1;32m   3695\u001b[0m \u001b[0;34m\u001b[0m\u001b[0m\n\u001b[1;32m   3696\u001b[0m         values, placement = _stack_arrays(\n",
      "\u001b[0;31mKeyboardInterrupt\u001b[0m: "
     ]
    }
   ],
   "source": [
    "import seaborn as sns\n",
    "import statsmodels.api as sm\n",
    "\n",
    "import statsmodels.formula.api as smf\n",
    "ss = pd.read_csv(os.path.join(montecarlofolder, \"n_bootstrapped_steadystate.csv\"), header=[0,1], index_col=0)\n",
    "bins = np.linspace(float(ss.n.min()), float(ss.n.max()), 50)\n",
    "groups = ss.groupby(pd.cut(ss['n']['0'], bins))\n",
    "groups.mean()['dr'].transpose().plot(logy=True)\n",
    "plt.show()\n",
    "slope_array = []\n",
    "for name, g in groups:\n",
    "    #display.display(name)\n",
    "    name = name[1:-1]\n",
    "    l, h = name.split(\", \")\n",
    "    l = float(l)\n",
    "    h = float(h)\n",
    "    n = np.average([l, h])\n",
    "    #display.display(n)\n",
    "    if 1==1: #name == \"(0.1, 0.478]\":\n",
    "        h = g['dr']\n",
    "        h.columns.name = \"layer\"\n",
    "        h = h.stack('layer')\n",
    "        h = h.reset_index('layer')\n",
    "        h = h.reset_index()\n",
    "        h.columns = [\"sample\", \"layer\", \"dr\"]\n",
    "        h['layer'] = [float(x) for x in h['layer']]\n",
    "        h['sample'] = [float(x) for x in h['sample']]\n",
    "        h['dr_log'] = np.log10(h['dr'])\n",
    "        h = h.loc[h['dr_log'] != -float(\"inf\")]\n",
    "        h = h.loc[h['dr_log'] != float(\"inf\")]\n",
    "        sample_groups = h.groupby('sample')\n",
    "        display.display(len(sample_groups))\n",
    "        for nm, g in sample_groups:\n",
    "            if nm > 3000:\n",
    "                continue\n",
    "            display.clear_output(wait=True)\n",
    "            display.display(\"Sample Number %s out of %s\" % (str(nm), str(h['sample'].max())))\n",
    "            display.display(\"Group: %s\" % name)\n",
    "            mod = smf.quantreg('dr_log ~ layer', g)\n",
    "            res = mod.fit(q=.5)\n",
    "            intercept, slope = res.params\n",
    "            slope_array.append([n, slope, 1-10**-slope])\n",
    "slope_array = pd.DataFrame(slope_array)\n",
    "slope_array.columns = [\"n\", \"slope\", \"sig_deg\"]\n",
    "sns.boxplot(x=\"n\", y=\"sig_deg\", data=slope_array)\n",
    "#metric_df = pd.DataFrame(slope_array)\n",
    "#metric_df.columns = [\"n\", \"sig deg\"]\n",
    "#display.display(metric_df)\n",
    "#bins = np.linspace(ss.n.min(), ss.n.max(), 10)\n",
    "#print bins\n",
    "#plt.yscale('log')\n",
    "#ss['dr'].apply(np.average).plot()"
   ]
  },
  {
   "cell_type": "markdown",
   "metadata": {
    "collapsed": false
   },
   "source": [
    "<h1> Kinetics Layers vs Time to half maximal plot </h1>"
   ]
  },
  {
   "cell_type": "code",
   "execution_count": 6,
   "metadata": {
    "collapsed": false,
    "scrolled": true
   },
   "outputs": [
    {
     "data": {
      "image/png": "[encoded data removed]",
      "text/plain": [
       "<matplotlib.figure.Figure at 0x1129f2910>"
      ]
     },
     "metadata": {},
     "output_type": "display_data"
    },
    {
     "data": {
      "text/plain": [
       "<matplotlib.axes._subplots.AxesSubplot at 0x112b06610>"
      ]
     },
     "execution_count": 6,
     "metadata": {},
     "output_type": "execute_result"
    },
    {
     "data": {
      "image/png": "[encoded data removed]",
      "text/plain": [
       "<matplotlib.figure.Figure at 0x112892050>"
      ]
     },
     "metadata": {},
     "output_type": "display_data"
    }
   ],
   "source": [
    "import pandas as pd\n",
    "import numpy as np\n",
    "import pylab as plt\n",
    "import os\n",
    "\n",
    "read_p = pd.read_csv(os.path.join(montecarlofolder, \"bootstrapped_kinetics.csv\"), header=[0,1], index_col=0)\n",
    "ttss = read_p['ttss']\n",
    "ttss = ttss.transpose()\n",
    "ttss = ttss.set_index(np.arange(31)[::-1])\n",
    "ttss = ttss.apply(lambda x: x * 25.)\n",
    "ttss_mean = ttss.apply(np.mean, axis=1)\n",
    "ttss_sd = ttss.apply(np.std, axis=1)\n",
    "#plt.plot(ttss_mean.index, ttss_mean)\n",
    "plt.figure()\n",
    "plt.title(\"Fig. 4c: Layers vs Time to Half Maximal\")\n",
    "plt.xlabel(\"Layers\")\n",
    "plt.ylabel(\"Time to half maximal (min)\")\n",
    "plt.errorbar(ttss_mean.index, ttss_mean, yerr=ttss_sd)\n",
    "\n",
    "#Prepare for dataframes for saving\n",
    "ttss_df = pd.DataFrame(ttss_mean)\n",
    "ttss_df['layers'] = np.arange(31)[::-1]\n",
    "ttss_df.columns = ['time to half max (min)', 'layers']\n",
    "ttss_df['sd'] = ttss_sd\n",
    "ttss_df.to_csv(datafolder + \"/TimeToHalfMax.csv\")\n",
    "plt.show()\n",
    "ttss.columns.name = \"samples\"\n",
    "ttss = ttss.stack(\"samples\")\n",
    "ttss = ttss.reset_index(\"samples\")\n",
    "ttss = ttss.reindex()\n",
    "ttss = ttss.reset_index()\n",
    "ttss.columns = [\"layer\", \"sample\", \"ttss\"]\n",
    "ttss.sort(columns=[\"layer\"], inplace=True)\n",
    "ttss = ttss[ttss['layer'] <= 25]\n",
    "plt.ylim((0,8000))\n",
    "sns.boxplot(x=\"layer\", y=\"ttss\", data=ttss, fliersize=3.0)"
   ]
  },
  {
   "cell_type": "code",
   "execution_count": null,
   "metadata": {
    "collapsed": false
   },
   "outputs": [
    {
     "data": {
      "text/plain": [
       "'Bootstrapped on /Users/Justin/Documents/Programming/CRISPRCascadeAnalysis/Data/hyakfitting_results/bestfits_kinetics_new_indexed.csv'"
      ]
     },
     "metadata": {},
     "output_type": "display_data"
    },
    {
     "data": {
      "text/plain": [
       "'Round 9 out of 10'"
      ]
     },
     "metadata": {},
     "output_type": "display_data"
    },
    {
     "data": {
      "text/plain": [
       "''"
      ]
     },
     "metadata": {},
     "output_type": "display_data"
    }
   ],
   "source": [
    "t_final = 750.0\n",
    "\n",
    "def evaluateSystem(a, k, b, u, n, kmodel=False ):\n",
    "    assert len(a) == len(k)\n",
    "    dr_array = []\n",
    "    ttss_array = []\n",
    "    ss = []\n",
    "    ss_0 = []\n",
    "    traj = None\n",
    "    if kmodel:\n",
    "        traj = kineticsModel(a, k, b, u, n)\n",
    "        traj.columns = [1, 2, 3, 4, 5]\n",
    "        traj.plot()\n",
    "        ss_0 = traj.iloc[0]\n",
    "        ss = traj.iloc[-1]\n",
    "    else:\n",
    "        ss = cascade_ss(len(a), a, k, b, u, n)\n",
    "        ss_0 = cascade_ss(len(a), a, k, b, 0.0, n)\n",
    "        traj = integrateSystem(len(a), a, k, b, u, n)\n",
    "        traj = pd.DataFrame(traj)\n",
    "        traj = traj.set_index(0) #only for integrate system, comment if using kinetics model\n",
    "        traj.reindex()\n",
    "        traj = pd.DataFrame(traj)\n",
    "    for ss_value, ss_0_value in zip(ss, ss_0):\n",
    "        values = [ss_value, ss_0_value]\n",
    "        dr = np.log10(max(values)/min(values))\n",
    "        dr_array.append(dr)\n",
    "    ttss_array = getTimeToHalfMaximum(traj, ss_0, ss, 0.001)\n",
    "    p = pd.DataFrame( {\"ss\": ss,\n",
    "            \"ss_0\": ss_0,\n",
    "            \"dr\": dr_array,\n",
    "            \"ttss\": ttss_array})\n",
    "    p = p.unstack()\n",
    "    p = pd.DataFrame(p).transpose()\n",
    "    return p\n",
    "\n",
    "message = \"\"\n",
    "describe = \"\"\n",
    "\n",
    "def modelbootstrap(input_filename, rounds=10, outfile=None, overwrite=False):\n",
    "    paramset = pd.read_csv(input_filename, header=[0,1], index_col=0)\n",
    "    ran_params = []\n",
    "    global message, describe, t_final, dt\n",
    "    t_final = 100.0\n",
    "    dt = 0.1\n",
    "    final_results = pd.DataFrame()\n",
    "    for j in range(rounds):\n",
    "        results = pd.DataFrame()\n",
    "        display.clear_output(wait=True)\n",
    "        display.display(\"Bootstrapped on %s\" % input_filename)\n",
    "        display.display(\"Round %d out of %d\" % (j+1, rounds))\n",
    "        display.display(describe)\n",
    "        for i in range(len(paramset)):\n",
    "            p = paramset.iloc[np.random.randint(0,len(paramset))]\n",
    "            a = np.array(p['a'])\n",
    "            k = np.array(p['k'])\n",
    "            b = [float(p['b'])]\n",
    "            u = [float(p['u'][0])]\n",
    "            n = [float(p['n'])]\n",
    "            params = np.concatenate([a, k, b, u, n])\n",
    "            index = []\n",
    "            for i, key in zip([4, 4, 1, 1, 1], list(\"akbun\")):\n",
    "                index = index + zip([key]*i, range(i))\n",
    "            index = pd.MultiIndex.from_tuples(index)\n",
    "            params = pd.DataFrame(params, index=index).transpose() #, columns = pd.MultiIndex.from_tuples(index))\n",
    "            b = b[0]\n",
    "            u = u[0]\n",
    "            n = n[0]\n",
    "            metrics = evaluateSystem(a, k, b, u, n, kmodel=True)\n",
    "            joined = params.join(metrics)\n",
    "            results = pd.concat([results, joined], ignore_index=True)\n",
    "        results = pd.DataFrame(results.apply(np.mean)).transpose()\n",
    "        final_results = pd.concat([final_results, results])\n",
    "        final_results = final_results.reindex()\n",
    "        message = final_results\n",
    "    if not outfile == None:\n",
    "        if not os.path.isfile(outfile) or overwrite:\n",
    "            display.display(\"Writing to file %s\" % os.path.basename(outfile))\n",
    "            final_results.to_csv(outfile)\n",
    "        else:\n",
    "            savedresults = pd.read_csv(outfile, header=[0,1], index_col=0)\n",
    "            savedresults.columns = final_results.columns\n",
    "            message = \"%d params read from file\" % len(savedresults)\n",
    "            message = message + '\\n' + \"Appending to file %s\" % os.path.basename(outfile)\n",
    "            newresults = pd.concat([savedresults, final_results], ignore_index=True)\n",
    "            newresults.to_csv(outfile)\n",
    "            describe = newresults.describe()\n",
    "    display.display(message)\n",
    "    return final_results\n",
    "\n",
    "def bootstrap(numlayers, input_filename, n_boot=500, outfile=None, overwrite=False, n_bounds=None):\n",
    "    global t_final\n",
    "    t_final = 750.0\n",
    "    paramset = pd.read_csv(input_filename, header=[0,1], index_col=0)\n",
    "    ran_params = []\n",
    "    results = pd.DataFrame()\n",
    "    global message\n",
    "    for i in range(n_boot):\n",
    "        display.clear_output(wait=True)\n",
    "        display.display(\"Bootstrapped on %s\" % input_filename)\n",
    "        display.display(\"Progress %d out of %d\" % (i+1, n_boot))\n",
    "        display.display(message)\n",
    "        a = np.random.choice(paramset.a.unstack(), size=numlayers)\n",
    "        k = np.random.choice(paramset.k.unstack(), size=numlayers)\n",
    "        b = np.random.choice(paramset.b.unstack(), size=1)\n",
    "        u = np.random.choice(paramset.u.unstack(), size=1)\n",
    "        n = np.random.choice(paramset.n.unstack(), size=1)\n",
    "        if not n_bounds == None:\n",
    "            n = np.random.uniform(*n_bounds)\n",
    "            n = np.array([n])\n",
    "        params = np.concatenate([a, k, b, u, n])\n",
    "        index = []\n",
    "        for i, key in zip([numlayers, numlayers, 1, 1, 1], list(\"akbun\")):\n",
    "            index = index + zip([key]*i, range(i))\n",
    "        index = pd.MultiIndex.from_tuples(index)\n",
    "        params = pd.DataFrame(params, index=index).transpose() #, columns = pd.MultiIndex.from_tuples(index))\n",
    "        b = float(b)\n",
    "        u = float(u)\n",
    "        n = float(n)\n",
    "        metrics = evaluateSystem(a, k, b, u, n)\n",
    "        joined = params.join(metrics)\n",
    "        results = pd.concat([results, joined], ignore_index=True)\n",
    "    if not outfile == None:\n",
    "        if not os.path.isfile(outfile) or overwrite:\n",
    "            display.display(\"Writing to file %s\" % os.path.basename(outfile))\n",
    "            final_results.to_csv(outfile)\n",
    "        else:\n",
    "            savedresults = pd.read_csv(outfile, header=[0,1], index_col=0)\n",
    "            savedresults.columns = results.columns\n",
    "            message = \"%d params read from file\" % len(savedresults)\n",
    "            message = message + '\\n' + \"Appending to file %s\" % os.path.basename(outfile)\n",
    "            newresults = pd.concat([savedresults, results], ignore_index=True)\n",
    "            newresults.to_csv(outfile)\n",
    "    return results\n",
    "\n",
    "#kinetics_bootstrap = bootstrap(30, kinetics_filename, n_boot=1000)\n",
    "\n",
    "##################### Model Bootstrap ######################\n",
    "overwrite = True\n",
    "numlayers = 30\n",
    "\n",
    "outfile=os.path.join(montecarlofolder, \"modelbootstrap.csv\")\n",
    "for i in range(10):\n",
    "    modelbootstrap(kinetics_new_filename, overwrite=overwrite, rounds=10, outfile=outfile)\n",
    "bootmodelresults = pd.read_csv(os.path.join(montecarlofolder, outfile), header=[0,1], index_col=0)\n",
    "summary = bootmodelresults.describe()\n",
    "display.display(summary)\n",
    "summary.to_csv(os.path.join(os.path.dirname(outfile), \"summary_\" + os.path.basename(outfile)))\n",
    "ttss_exp = bootmodelresults['ttss']\n",
    "ttss_exp.columns = [5, 4, 3, 2, 1]\n",
    "ttss_exp.columns.name = \"layer\"\n",
    "ttss_exp = ttss_exp.transpose()\n",
    "ttss_exp.columns.name = \"sample\"\n",
    "ttss_exp = ttss_exp.stack('sample')\n",
    "ttss_exp = ttss_exp.reset_index('sample')\n",
    "ttss_exp = ttss_exp.reindex()\n",
    "ttss_exp = ttss_exp.reset_index()\n",
    "ttss_exp.columns = [\"layer\", \"sample\", \"ttss\"]\n",
    "ttss_exp['ttss'] = ttss_exp['ttss'] * 25.\n",
    "ttss_exp = ttss_exp.sort('layer')\n",
    "#ttss = ttss.stack('layer')\n",
    "display.display(ttss_exp)\n",
    "plt.show()\n",
    "sns.boxplot(x='layer', y='ttss', data=ttss_exp)\n",
    "##################### Projection Monte Carlo ######################\n",
    "overwrite = False\n",
    "numlayers = 30\n",
    "\n",
    "for i in range(0):\n",
    "    n_bootstrap_steadystate_results = bootstrap(numlayers, steadystate_filename, n_boot=1000,\n",
    "                    n_bounds=(0.1, 3.5), overwrite=overwrite, \n",
    "                    outfile=os.path.join(montecarlofolder, \"n_bootstrapped_steadystate.csv\"))\n",
    "    \n",
    "for i in range(0):\n",
    "    bootstrap_kinetics_results = bootstrap(numlayers, kinetics_filename, n_boot=1000, overwrite=overwrite, \n",
    "                    outfile=os.path.join(montecarlofolder, \"bootstrapped_kinetics.csv\"))"
   ]
  },
  {
   "cell_type": "code",
   "execution_count": 27,
   "metadata": {
    "collapsed": false
   },
   "outputs": [
    {
     "data": {
      "text/html": [
       "<table class=\"simpletable\">\n",
       "<caption>QuantReg Regression Results</caption>\n",
       "<tr>\n",
       "  <th>Dep. Variable:</th>       <td>ttss</td>       <th>  Pseudo R-squared:  </th> <td>  0.7632</td>\n",
       "</tr>\n",
       "<tr>\n",
       "  <th>Model:</th>             <td>QuantReg</td>     <th>  Bandwidth:         </th> <td>   19.34</td>\n",
       "</tr>\n",
       "<tr>\n",
       "  <th>Method:</th>          <td>Least Squares</td>  <th>  Sparsity:          </th> <td>   881.6</td>\n",
       "</tr>\n",
       "<tr>\n",
       "  <th>Date:</th>          <td>Fri, 09 Oct 2015</td> <th>  No. Observations:  </th>  <td>564200</td> \n",
       "</tr>\n",
       "<tr>\n",
       "  <th>Time:</th>              <td>13:48:48</td>     <th>  Df Residuals:      </th>  <td>564198</td> \n",
       "</tr>\n",
       "<tr>\n",
       "  <th> </th>                      <td> </td>        <th>  Df Model:          </th>  <td>     1</td> \n",
       "</tr>\n",
       "</table>\n",
       "<table class=\"simpletable\">\n",
       "<tr>\n",
       "      <td></td>         <th>coef</th>     <th>std err</th>      <th>t</th>      <th>P>|t|</th> <th>[95.0% Conf. Int.]</th> \n",
       "</tr>\n",
       "<tr>\n",
       "  <th>Intercept</th> <td>  145.5882</td> <td>    1.141</td> <td>  127.645</td> <td> 0.000</td> <td>  143.353   147.824</td>\n",
       "</tr>\n",
       "<tr>\n",
       "  <th>layer</th>     <td>  204.4118</td> <td>    0.078</td> <td> 2612.538</td> <td> 0.000</td> <td>  204.258   204.565</td>\n",
       "</tr>\n",
       "</table>"
      ],
      "text/plain": [
       "<class 'statsmodels.iolib.summary.Summary'>\n",
       "\"\"\"\n",
       "                         QuantReg Regression Results                          \n",
       "==============================================================================\n",
       "Dep. Variable:                   ttss   Pseudo R-squared:               0.7632\n",
       "Model:                       QuantReg   Bandwidth:                       19.34\n",
       "Method:                 Least Squares   Sparsity:                        881.6\n",
       "Date:                Fri, 09 Oct 2015   No. Observations:               564200\n",
       "Time:                        13:48:48   Df Residuals:                   564198\n",
       "                                        Df Model:                            1\n",
       "==============================================================================\n",
       "                 coef    std err          t      P>|t|      [95.0% Conf. Int.]\n",
       "------------------------------------------------------------------------------\n",
       "Intercept    145.5882      1.141    127.645      0.000       143.353   147.824\n",
       "layer        204.4118      0.078   2612.538      0.000       204.258   204.565\n",
       "==============================================================================\n",
       "\"\"\""
      ]
     },
     "metadata": {},
     "output_type": "display_data"
    },
    {
     "data": {
      "text/html": [
       "<table class=\"simpletable\">\n",
       "<caption>OLS Regression Results</caption>\n",
       "<tr>\n",
       "  <th>Dep. Variable:</th>          <td>ttss</td>       <th>  R-squared:         </th>  <td>   0.796</td>  \n",
       "</tr>\n",
       "<tr>\n",
       "  <th>Model:</th>                   <td>OLS</td>       <th>  Adj. R-squared:    </th>  <td>   0.796</td>  \n",
       "</tr>\n",
       "<tr>\n",
       "  <th>Method:</th>             <td>Least Squares</td>  <th>  F-statistic:       </th>  <td>2.205e+06</td> \n",
       "</tr>\n",
       "<tr>\n",
       "  <th>Date:</th>             <td>Fri, 09 Oct 2015</td> <th>  Prob (F-statistic):</th>   <td>  0.00</td>   \n",
       "</tr>\n",
       "<tr>\n",
       "  <th>Time:</th>                 <td>13:48:48</td>     <th>  Log-Likelihood:    </th> <td>-4.5586e+06</td>\n",
       "</tr>\n",
       "<tr>\n",
       "  <th>No. Observations:</th>      <td>564200</td>      <th>  AIC:               </th>  <td>9.117e+06</td> \n",
       "</tr>\n",
       "<tr>\n",
       "  <th>Df Residuals:</th>          <td>564198</td>      <th>  BIC:               </th>  <td>9.117e+06</td> \n",
       "</tr>\n",
       "<tr>\n",
       "  <th>Df Model:</th>              <td>     1</td>      <th>                     </th>      <td> </td>     \n",
       "</tr>\n",
       "<tr>\n",
       "  <th>Covariance Type:</th>      <td>nonrobust</td>    <th>                     </th>      <td> </td>     \n",
       "</tr>\n",
       "</table>\n",
       "<table class=\"simpletable\">\n",
       "<tr>\n",
       "      <td></td>         <th>coef</th>     <th>std err</th>      <th>t</th>      <th>P>|t|</th> <th>[95.0% Conf. Int.]</th> \n",
       "</tr>\n",
       "<tr>\n",
       "  <th>Intercept</th> <td>  126.5221</td> <td>    2.021</td> <td>   62.592</td> <td> 0.000</td> <td>  122.560   130.484</td>\n",
       "</tr>\n",
       "<tr>\n",
       "  <th>layer</th>     <td>  205.9060</td> <td>    0.139</td> <td> 1484.904</td> <td> 0.000</td> <td>  205.634   206.178</td>\n",
       "</tr>\n",
       "</table>\n",
       "<table class=\"simpletable\">\n",
       "<tr>\n",
       "  <th>Omnibus:</th>       <td>849633.935</td> <th>  Durbin-Watson:     </th>   <td>   1.977</td>   \n",
       "</tr>\n",
       "<tr>\n",
       "  <th>Prob(Omnibus):</th>   <td> 0.000</td>   <th>  Jarque-Bera (JB):  </th> <td>390413555.909</td>\n",
       "</tr>\n",
       "<tr>\n",
       "  <th>Skew:</th>            <td> 9.449</td>   <th>  Prob(JB):          </th>   <td>    0.00</td>   \n",
       "</tr>\n",
       "<tr>\n",
       "  <th>Kurtosis:</th>        <td>130.477</td>  <th>  Cond. No.          </th>   <td>    28.4</td>   \n",
       "</tr>\n",
       "</table>"
      ],
      "text/plain": [
       "<class 'statsmodels.iolib.summary.Summary'>\n",
       "\"\"\"\n",
       "                            OLS Regression Results                            \n",
       "==============================================================================\n",
       "Dep. Variable:                   ttss   R-squared:                       0.796\n",
       "Model:                            OLS   Adj. R-squared:                  0.796\n",
       "Method:                 Least Squares   F-statistic:                 2.205e+06\n",
       "Date:                Fri, 09 Oct 2015   Prob (F-statistic):               0.00\n",
       "Time:                        13:48:48   Log-Likelihood:            -4.5586e+06\n",
       "No. Observations:              564200   AIC:                         9.117e+06\n",
       "Df Residuals:                  564198   BIC:                         9.117e+06\n",
       "Df Model:                           1                                         \n",
       "Covariance Type:            nonrobust                                         \n",
       "==============================================================================\n",
       "                 coef    std err          t      P>|t|      [95.0% Conf. Int.]\n",
       "------------------------------------------------------------------------------\n",
       "Intercept    126.5221      2.021     62.592      0.000       122.560   130.484\n",
       "layer        205.9060      0.139   1484.904      0.000       205.634   206.178\n",
       "==============================================================================\n",
       "Omnibus:                   849633.935   Durbin-Watson:                   1.977\n",
       "Prob(Omnibus):                  0.000   Jarque-Bera (JB):        390413555.909\n",
       "Skew:                           9.449   Prob(JB):                         0.00\n",
       "Kurtosis:                     130.477   Cond. No.                         28.4\n",
       "==============================================================================\n",
       "\n",
       "Warnings:\n",
       "[1] Standard Errors assume that the covariance matrix of the errors is correctly specified.\n",
       "\"\"\""
      ]
     },
     "metadata": {},
     "output_type": "display_data"
    }
   ],
   "source": [
    "import statsmodels.api as sm\n",
    "\n",
    "import statsmodels.formula.api as smf\n",
    "\n",
    "mod = smf.quantreg('ttss ~ layer', ttss)\n",
    "res = mod.fit(q=.5)\n",
    "display.display(res.summary())\n",
    "\n",
    "mod = smf.ols('ttss ~ layer', ttss)\n",
    "res = mod.fit(q=.5)\n",
    "display.display(res.summary())"
   ]
  },
  {
   "cell_type": "code",
   "execution_count": 17,
   "metadata": {
    "collapsed": false
   },
   "outputs": [
    {
     "ename": "NameError",
     "evalue": "name 'globalparams' is not defined",
     "output_type": "error",
     "traceback": [
      "\u001b[0;31m---------------------------------------------------------------------------\u001b[0m",
      "\u001b[0;31mNameError\u001b[0m                                 Traceback (most recent call last)",
      "\u001b[0;32m<ipython-input-17-54fbd3c6e76f>\u001b[0m in \u001b[0;36m<module>\u001b[0;34m()\u001b[0m\n\u001b[1;32m      4\u001b[0m \u001b[0mdr_plots\u001b[0m \u001b[0;34m=\u001b[0m \u001b[0;34m[\u001b[0m\u001b[0;34m]\u001b[0m\u001b[0;34m\u001b[0m\u001b[0m\n\u001b[1;32m      5\u001b[0m \u001b[0;32mfor\u001b[0m \u001b[0mn\u001b[0m \u001b[0;32min\u001b[0m \u001b[0mnp\u001b[0m\u001b[0;34m.\u001b[0m\u001b[0mlinspace\u001b[0m\u001b[0;34m(\u001b[0m\u001b[0;36m0.1\u001b[0m\u001b[0;34m,\u001b[0m \u001b[0;36m3.0\u001b[0m\u001b[0;34m,\u001b[0m \u001b[0;36m100\u001b[0m\u001b[0;34m)\u001b[0m\u001b[0;34m:\u001b[0m\u001b[0;34m\u001b[0m\u001b[0m\n\u001b[0;32m----> 6\u001b[0;31m     \u001b[0mp\u001b[0m \u001b[0;34m=\u001b[0m \u001b[0mlist\u001b[0m\u001b[0;34m(\u001b[0m\u001b[0mglobalparams\u001b[0m\u001b[0;34m[\u001b[0m\u001b[0;34m'mean'\u001b[0m\u001b[0;34m]\u001b[0m\u001b[0;34m)\u001b[0m\u001b[0;34m\u001b[0m\u001b[0m\n\u001b[0m\u001b[1;32m      7\u001b[0m     \u001b[0mp\u001b[0m\u001b[0;34m[\u001b[0m\u001b[0;34m-\u001b[0m\u001b[0;36m1\u001b[0m\u001b[0;34m]\u001b[0m \u001b[0;34m=\u001b[0m \u001b[0mn\u001b[0m\u001b[0;34m\u001b[0m\u001b[0m\n\u001b[1;32m      8\u001b[0m     \u001b[0mdr_plot\u001b[0m \u001b[0;34m=\u001b[0m \u001b[0mdynamic_range_plot\u001b[0m\u001b[0;34m(\u001b[0m\u001b[0;36m50\u001b[0m\u001b[0;34m,\u001b[0m \u001b[0;34m*\u001b[0m\u001b[0mp\u001b[0m\u001b[0;34m)\u001b[0m\u001b[0;34m\u001b[0m\u001b[0m\n",
      "\u001b[0;31mNameError\u001b[0m: name 'globalparams' is not defined"
     ]
    }
   ],
   "source": [
    "n_array = []    \n",
    "metric = []\n",
    "logslope = []\n",
    "dr_plots = []\n",
    "for n in np.linspace(0.1, 3.0, 100):\n",
    "    p = list(globalparams['mean'])\n",
    "    p[-1] = n\n",
    "    dr_plot = dynamic_range_plot(50, *p)\n",
    "    dr_plots.append(dr_plot)\n",
    "    logslope.append(np.log10(dr_plot[25]/dr_plot[15])/10.0)\n",
    "    n_array.append(n)\n",
    "metric = np.array(metric)\n",
    "n_array = np.array(n_array)\n",
    "logslope = np.array(logslope)\n",
    "plt.yscale('log')\n",
    "#plt.legend()\n",
    "plt.show()\n",
    "\n",
    "display.display(globalparams)\n",
    "metriccsv = pd.DataFrame([n_array, 1.0*np.array(metric)]).transpose()\n",
    "metriccsv.columns = [\"n\", \"Metric\"]\n",
    "#metriccsv\n",
    "plt.plot(n_array, logslope)"
   ]
  },
  {
   "cell_type": "markdown",
   "metadata": {},
   "source": [
    "<h1> Metric: Log Slope </h1>\n",
    "\n",
    "np.log10(dr_plot[25]/dr_plot[15])/10.0\n",
    "\n",
    "$$ dynamic range = \\rho  = 20.0log_{10}(\\frac{max}{min}) $$\n",
    "$$ η = log_{10}(\\frac{\\rho_{i+1}}{\\rho_i}) $$"
   ]
  },
  {
   "cell_type": "code",
   "execution_count": null,
   "metadata": {
    "collapsed": false
   },
   "outputs": [],
   "source": [
    "plt.plot(n_array, logslope)\n",
    "plt.plot(n_array, logslope*5)\n",
    "plt.plot(n_array, logslope*10)\n",
    "plt.legend()\n",
    "plt.title(\"Ratio Change in Dynamic Range 10^(layer * logslope) vs n\")\n",
    "plt.show()"
   ]
  },
  {
   "cell_type": "markdown",
   "metadata": {},
   "source": [
    "<h1> Metric: Signal Degradation (Dynamic Range Loss) </h1>\n",
    "\n",
    "\n",
    "$$ dynamic range = \\rho_{m}  = 20.0log_{10}(\\frac{max(r_{m}(u))}{min(r_{m}(u))}) $$\n",
    "$$ log_{10}(\\rho_{m+x}) = η x + log_{10}(\\rho_m) $$\n",
    "$$ ηx = log_{10}(\\frac{\\rho_{p+x}}{\\rho_p}) $$\n",
    "$$ δ(x) = 1 - \\frac{\\rho_{i+j}}{\\rho_i} = 1 - 10^{ηx}$$\n",
    "$$ δ(x): signal degradation between x layers $$\n",
    "$$ m: mth layer $$\n",
    "$\\phi$ = 1.0: 100% dynamic range loss at x layers\n",
    "\n",
    "$\\phi$ = 0.5: 50% dynamic range loss at x layers"
   ]
  },
  {
   "cell_type": "code",
   "execution_count": null,
   "metadata": {
    "collapsed": false
   },
   "outputs": [],
   "source": [
    "plt.plot(n_array, 1-10**(1*logslope), label=\"1 layer\")\n",
    "plt.plot(n_array, 1-10**(2*logslope), label=\"2 layers\")\n",
    "plt.plot(n_array, 1-10**(5*logslope), label=\"5 layers\")\n",
    "plt.plot(n_array, 1-10**(10*logslope), label=\"10 layers\")\n",
    "plt.plot(n_array, 1-10**(100*logslope), label=\"100 layers\")\n",
    "plt.plot(n_array, 1-10**(100000*logslope), label=\"1000 layers\")\n",
    "plt.scatter(globalparams['mean']['n'], 0.2)\n",
    "plt.ylim(-0.2, 1.1)\n",
    "plt.legend()\n",
    "plt.title(\"Ratio Change in Dynamic Range 10^(layer * logslope) vs n\")\n",
    "plt.show()"
   ]
  },
  {
   "cell_type": "markdown",
   "metadata": {},
   "source": [
    "<h1> Hill co-efficient metric plot </h1>"
   ]
  },
  {
   "cell_type": "code",
   "execution_count": null,
   "metadata": {
    "collapsed": false
   },
   "outputs": [],
   "source": [
    "import pandas as pd\n",
    "import numpy as np\n",
    "import pylab as plt\n",
    "read_p = p\n",
    "dr_diff = read_p['dr_diff']#.iloc[:,25:]\n",
    "dr_diff = pd.DataFrame(dr_diff.apply(np.mean, axis=1))\n",
    "dr = read_p['dr']\n",
    "plt.figure()\n",
    "#plt.yscale('log')\n",
    "n0 = read_p['dr_diff'].iloc[:,0]\n",
    "n11 = read_p['dr_diff'].iloc[:,11]\n",
    "\n",
    "#plt.scatter(np.array(read_p['n']), n0/n10)\n",
    "plt.title(\"Range Plot\")\n",
    "plt.scatter(np.array(read_p['n']), dr_diff)\n",
    "plt.show()\n",
    "\n",
    "\n",
    "plt.yscale('linear')\n",
    "plt.xlim(0.5, 2.5)\n",
    "plt.ylim(-1, 4)\n",
    "\n",
    "\n",
    "# Dynamic Range\n",
    "ss = read_p['ss']\n",
    "ss_0 = read_p['ss_0']\n",
    "dynamic_range = np.abs(np.log10(ss) - np.log10(ss_0))\n",
    "dynamic_range_mean = dynamic_range.iloc[:,4:5].apply(np.mean, axis=1)\n",
    "dynamic_range_mean2 = dynamic_range.iloc[:,10:11].apply(np.mean, axis=1)\n",
    "dynamic_range_ratio = dynamic_range_mean2/dynamic_range_mean\n",
    "\n",
    "\n",
    "l = dynamic_range.transpose()\n",
    "lsd = dynamic_range.transpose()\n",
    "lsd = l.apply(np.std, axis=1)\n",
    "l = l.apply(np.mean, axis=1)\n",
    "l.plot()\n",
    "plt.show()\n",
    "\n",
    "var = dynamic_range_ratio\n",
    "plt.scatter(np.array(read_p['n']), var)\n",
    "plt.title(\"Test Metric\")\n",
    "plt.show()\n",
    "\n",
    "plt.scatter(np.array(read_p['n']), dynamic_range_mean)\n",
    "plt.title(\"Dynamic Range Scatter\")\n",
    "plt.yscale('linear')\n",
    "plt.xlabel('n')\n",
    "plt.ylabel('dyanmic range (log(ss/ss_0))')\n",
    "plt.xlim(0.5, 2.5)\n",
    "plt.ylim(-1, 4)\n",
    "plt.savefig(\"/Users/Justin/Desktop/ModelingAnalysis_9-14-15/DynamicRangeScatterPlot.png\")\n",
    "plt.show()\n",
    "df = pd.DataFrame(dynamic_range_mean)\n",
    "df['n'] = np.array(read_p['n'])\n",
    "\n",
    "#Bin data and calculate standard deviation\n",
    "#df = pd.DataFrame(dr.iloc[:,4:5].apply(np.mean, axis=1))\n",
    "#df['n'] = np.array(read_p['n'])\n",
    "bins = np.arange(df.n.min(), df.n.max(), 0.05)\n",
    "groups = df.groupby(pd.cut(df.n, bins))\n",
    "g = groups.mean()\n",
    "gsd = groups.std()\n",
    "plt.title(\"Dynamic Range\")\n",
    "plt.yscale('linear')\n",
    "plt.xlabel('n')\n",
    "plt.ylabel('dyanmic range (log(ss/ss_0))')\n",
    "plt.xlim(0.5, 2.5)\n",
    "plt.ylim(-1, 4)\n",
    "plt.errorbar(g['n'], g[0], yerr=gsd[0])\n",
    "plt.savefig(analysisFolder + \"/DynamicRangePlot.png\")\n",
    "dynamicrange_dataframe = pd.DataFrame(\n",
    "                                        {'n': np.array(g['n']), \n",
    "                                       'dynamic range |log(ss) - log(ss_0)|': np.array(g[0]),\n",
    "                                       'sd': np.array(gsd[0])\n",
    "                                        })\n",
    "dynamicrange_dataframe.to_csv(analysisFolder + \"dynamicrangeplot.csv\")\n",
    "\n",
    "read_p.to_csv(analysisFolder + \"distributionForDynamicRangePlot.csv\")"
   ]
  },
  {
   "cell_type": "markdown",
   "metadata": {},
   "source": [
    "<h1> Dynamic Range Plot </h1>"
   ]
  },
  {
   "cell_type": "code",
   "execution_count": null,
   "metadata": {
    "collapsed": false
   },
   "outputs": [],
   "source": [
    "range(20)[0] - range(20)[1]"
   ]
  },
  {
   "cell_type": "markdown",
   "metadata": {},
   "source": [
    "<h1> Import Dose Response </h1>"
   ]
  },
  {
   "cell_type": "code",
   "execution_count": 366,
   "metadata": {
    "collapsed": false
   },
   "outputs": [
    {
     "data": {
      "text/plain": [
       "strain\n",
       "6059    0.941733\n",
       "6325    0.792967\n",
       "6326    0.644373\n",
       "6327    0.647548\n",
       "dtype: float64"
      ]
     },
     "execution_count": 366,
     "metadata": {},
     "output_type": "execute_result"
    },
    {
     "data": {
      "image/png": "[encoded data removed]",
      "text/plain": [
       "<matplotlib.figure.Figure at 0x1248bf6d0>"
      ]
     },
     "metadata": {},
     "output_type": "display_data"
    }
   ],
   "source": [
    "import pandas as pd\n",
    "import pylab as plt\n",
    "name = os.path.join(datafolder, \"ExperimentalData\", \"DoseResponse.csv\")\n",
    "exp_dose = pd.read_csv(name)\n",
    "AU = exp_dose['FL1.Amean']\n",
    "treatment = exp_dose['treatment']\n",
    "exp_dose = pd.pivot_table(exp_dose, index='treatment', columns=[\"strain\"], values=\"FL1.Amean\")\n",
    "ax = exp_dose.plot(logx=True)\n",
    "ax.set_xlabel(\"Beta-estradiol (nM)\")\n",
    "ax.set_ylabel(\"Fluorescence (AU)\")\n",
    "ax.set_title(\"Experimental Does Response\")\n",
    "ax\n",
    "exp_dose\n",
    "\n",
    "mx = exp_dose.apply(np.max)\n",
    "mn = exp_dose.apply(np.min)\n",
    "np.log10(mx/mn)"
   ]
  },
  {
   "cell_type": "markdown",
   "metadata": {
    "collapsed": true
   },
   "source": [
    "<h1> Importing Kinetics Data </h1>"
   ]
  },
  {
   "cell_type": "code",
   "execution_count": 365,
   "metadata": {
    "collapsed": false
   },
   "outputs": [
    {
     "data": {
      "image/png": "[encoded data removed]",
      "text/plain": [
       "<matplotlib.figure.Figure at 0x12fae4050>"
      ]
     },
     "metadata": {},
     "output_type": "display_data"
    }
   ],
   "source": [
    "layers = []\n",
    "for i in range(1,5):\n",
    "    name = os.path.join(datafolder, \"ExperimentalData\", \"KineticsLayer%d.csv\" % i)\n",
    "    layers.append(pd.read_csv(name, header=None))\n",
    "layers1, layers2, layers3, layers4 = layers\n",
    "header = ['time', 'au']\n",
    "layers1.columns = header\n",
    "layers2.columns = header\n",
    "layers3.columns = header\n",
    "layers4.columns = header\n",
    "layers1['layer'] = 1\n",
    "layers2['layer'] = 2\n",
    "layers3['layer'] = 3\n",
    "layers4['layer'] = 4\n",
    "layers = pd.concat([layers1, layers2, layers3, layers4])\n",
    "layers_table = pd.pivot_table(layers, values='au', columns=['layer'], index='time')\n",
    "layers.sort(columns=['time', 'layer'])\n",
    "layers['au'] = layers['au'] + 2000.\n",
    "layers.stack()\n",
    "layers\n",
    "exp_kinetics = pd.pivot_table(layers, values='au', index=['layer', 'time'])\n",
    "exp_kinetics\n",
    "plt.figure()\n",
    "plt.xlabel(\"Time (min)\")\n",
    "plt.ylabel(\"Fluorescence (AU)\")\n",
    "plt.title(\"Experimental Kinetics\")\n",
    "exp_kinetics[1].plot()\n",
    "exp_kinetics[2].plot()\n",
    "exp_kinetics[3].plot()\n",
    "exp_kinetics[4].plot()\n",
    "plt.show()"
   ]
  },
  {
   "cell_type": "markdown",
   "metadata": {},
   "source": [
    "<h1> Plot Best Fits </h1>"
   ]
  },
  {
   "cell_type": "code",
   "execution_count": 364,
   "metadata": {
    "collapsed": false,
    "scrolled": true
   },
   "outputs": [
    {
     "data": {
      "text/plain": [
       "a  0    1.019817\n",
       "   1    0.444067\n",
       "   2    0.599496\n",
       "   3    0.583732\n",
       "k  0    0.805262\n",
       "   1    0.495397\n",
       "   2    0.528830\n",
       "   3    0.539853\n",
       "b  0    0.095336\n",
       "   1    0.087488\n",
       "u  0    0.413750\n",
       "n  0    1.511766\n",
       "Name: mean, dtype: float64"
      ]
     },
     "metadata": {},
     "output_type": "display_data"
    },
    {
     "data": {
      "text/plain": [
       "a  0    0.003054\n",
       "   1    0.109886\n",
       "   2    0.147607\n",
       "   3    0.143713\n",
       "k  0    0.281558\n",
       "   1    0.173047\n",
       "   2    0.185329\n",
       "   3    0.190868\n",
       "b  0    0.000249\n",
       "   1    0.000219\n",
       "u  0    0.101783\n",
       "n  0    0.005585\n",
       "Name: std, dtype: float64"
      ]
     },
     "metadata": {},
     "output_type": "display_data"
    },
    {
     "ename": "NameError",
     "evalue": "global name 'exp_dose' is not defined",
     "output_type": "error",
     "traceback": [
      "\u001b[0;31m---------------------------------------------------------------------------\u001b[0m",
      "\u001b[0;31mNameError\u001b[0m                                 Traceback (most recent call last)",
      "\u001b[0;32m<ipython-input-364-46de41a064ab>\u001b[0m in \u001b[0;36m<module>\u001b[0;34m()\u001b[0m\n\u001b[1;32m     26\u001b[0m     \u001b[0mdose_combined\u001b[0m\u001b[0;34m.\u001b[0m\u001b[0mplot\u001b[0m\u001b[0;34m(\u001b[0m\u001b[0mlogx\u001b[0m\u001b[0;34m=\u001b[0m\u001b[0mTrue\u001b[0m\u001b[0;34m)\u001b[0m\u001b[0;34m\u001b[0m\u001b[0m\n\u001b[1;32m     27\u001b[0m \u001b[0;34m\u001b[0m\u001b[0m\n\u001b[0;32m---> 28\u001b[0;31m \u001b[0mplotBest\u001b[0m\u001b[0;34m(\u001b[0m\u001b[0mcombined_filename\u001b[0m\u001b[0;34m)\u001b[0m\u001b[0;34m\u001b[0m\u001b[0m\n\u001b[0m\u001b[1;32m     29\u001b[0m \u001b[0mplotBest\u001b[0m\u001b[0;34m(\u001b[0m\u001b[0msteadystate_filename\u001b[0m\u001b[0;34m)\u001b[0m\u001b[0;34m\u001b[0m\u001b[0m\n\u001b[1;32m     30\u001b[0m \u001b[0mplotBest\u001b[0m\u001b[0;34m(\u001b[0m\u001b[0mkinetics_filename\u001b[0m\u001b[0;34m)\u001b[0m\u001b[0;34m\u001b[0m\u001b[0m\n",
      "\u001b[0;32m<ipython-input-364-46de41a064ab>\u001b[0m in \u001b[0;36mplotBest\u001b[0;34m(filename)\u001b[0m\n\u001b[1;32m     15\u001b[0m     \u001b[0mn\u001b[0m \u001b[0;34m=\u001b[0m \u001b[0mp\u001b[0m\u001b[0;34m[\u001b[0m\u001b[0;34m'n'\u001b[0m\u001b[0;34m]\u001b[0m\u001b[0;34m[\u001b[0m\u001b[0;36m0\u001b[0m\u001b[0;34m]\u001b[0m\u001b[0;34m\u001b[0m\u001b[0m\n\u001b[1;32m     16\u001b[0m \u001b[0;34m\u001b[0m\u001b[0m\n\u001b[0;32m---> 17\u001b[0;31m     \u001b[0mm\u001b[0m \u001b[0;34m=\u001b[0m \u001b[0mssModel\u001b[0m\u001b[0;34m(\u001b[0m\u001b[0mexp_dose\u001b[0m\u001b[0;34m.\u001b[0m\u001b[0mindex\u001b[0m\u001b[0;34m,\u001b[0m \u001b[0ma\u001b[0m\u001b[0;34m,\u001b[0m \u001b[0mk\u001b[0m\u001b[0;34m,\u001b[0m \u001b[0mb2\u001b[0m\u001b[0;34m,\u001b[0m \u001b[0mu\u001b[0m\u001b[0;34m,\u001b[0m \u001b[0mn\u001b[0m\u001b[0;34m)\u001b[0m \u001b[0;34m*\u001b[0m \u001b[0;36m1600.0\u001b[0m\u001b[0;34m\u001b[0m\u001b[0m\n\u001b[0m\u001b[1;32m     18\u001b[0m     \u001b[0mdose_combined\u001b[0m \u001b[0;34m=\u001b[0m \u001b[0mm\u001b[0m\u001b[0;34m.\u001b[0m\u001b[0mjoin\u001b[0m\u001b[0;34m(\u001b[0m\u001b[0mexp_dose\u001b[0m\u001b[0;34m)\u001b[0m\u001b[0;34m\u001b[0m\u001b[0m\n\u001b[1;32m     19\u001b[0m     \u001b[0mk\u001b[0m \u001b[0;34m=\u001b[0m \u001b[0mkineticsModel\u001b[0m\u001b[0;34m(\u001b[0m\u001b[0ma\u001b[0m\u001b[0;34m,\u001b[0m \u001b[0mk\u001b[0m\u001b[0;34m,\u001b[0m \u001b[0mb1\u001b[0m\u001b[0;34m,\u001b[0m \u001b[0mu\u001b[0m\u001b[0;34m,\u001b[0m \u001b[0mn\u001b[0m\u001b[0;34m)\u001b[0m \u001b[0;34m*\u001b[0m \u001b[0;36m1600.0\u001b[0m \u001b[0;34m+\u001b[0m \u001b[0;36m2000.0\u001b[0m\u001b[0;34m\u001b[0m\u001b[0m\n",
      "\u001b[0;31mNameError\u001b[0m: global name 'exp_dose' is not defined"
     ]
    }
   ],
   "source": [
    "t_final = 100.\n",
    "#modelparams, globalparams = getParamUncertainties(combined_filename)\n",
    "#modelparams, globalparams = getParamUncertainties(steadystate_filename)\n",
    "#modelparams, globalparams = getParamUncertainties(kinetics_filename)\n",
    "\n",
    "def plotBest(filename):\n",
    "    modelparams, globalparams = getParamUncertainties(filename)\n",
    "    p = modelparams['mean']\n",
    "    display.display(p)\n",
    "    display.display(modelparams['std'])\n",
    "    a = list(p['a'])\n",
    "    k = list(p['k'])\n",
    "    u = p['u'][0]\n",
    "    b1, b2 = p['b']\n",
    "    n = p['n'][0]\n",
    "\n",
    "    m = ssModel(exp_dose.index, a, k, b2, u, n) * 1600.0\n",
    "    dose_combined = m.join(exp_dose)\n",
    "    k = kineticsModel(a, k, b1, u, n) * 1600.0 + 2000.0\n",
    "    k = k.set_index(k.index * 25.0)\n",
    "    k.plot()\n",
    "    exp_kinetics[1].plot()\n",
    "    exp_kinetics[2].plot()\n",
    "    exp_kinetics[3].plot()\n",
    "    exp_kinetics[4].plot()\n",
    "    dose_combined.plot(logx=True)\n",
    "    \n",
    "plotBest(combined_filename)\n",
    "plotBest(steadystate_filename)\n",
    "plotBest(kinetics_filename)"
   ]
  },
  {
   "cell_type": "code",
   "execution_count": null,
   "metadata": {
    "collapsed": false
   },
   "outputs": [],
   "source": [
    "t_final = 100.\n",
    "kinetics_trajectories = []\n",
    "ss_trajectories = []\n",
    "p = pd.read_csv(\"/Users/Justin/Documents/Programming/CRISPRCascadeAnalysis/Data/hyakfitting_results/bestfits_combined_indexed.csv\", header=[0,1], index_col=0)\n",
    "for index in range(len(p)):\n",
    "    index = 1\n",
    "    a = list(p.iloc[index]['a'])\n",
    "    k = list(p.iloc[index]['k'])\n",
    "    u = p.iloc[index]['u'][0]\n",
    "    b1, b2 = p.iloc[index]['b']\n",
    "    n = p.iloc[index]['n'][0]\n",
    "\n",
    "    m = ssModel(exp_dose.index, a, k, b2, u, n) * 1600.0\n",
    "    k = kineticsModel(a, k, b1, u, n) * 1600.0\n",
    "    k = k.set_index(k.index * 25.0)\n",
    "    kinetics_trajectories.append(k)\n",
    "    ss_trajectories.append(m)"
   ]
  },
  {
   "cell_type": "code",
   "execution_count": null,
   "metadata": {
    "collapsed": false
   },
   "outputs": [],
   "source": [
    "import seaborn as sns\n",
    "trajectories = kinetics_trajectories\n",
    "doseresponses = ss_trajectories\n",
    "for i, t in enumerate(trajectories):\n",
    "    t['unit'] = i\n",
    "    t['time'] = t.index\n",
    "traj_pd = pd.concat(trajectories)\n",
    "trajmelt = pd.melt(traj_pd, id_vars=[\"time\", \"unit\"], var_name=\"layers\")\n",
    "trajmelt['layers'] = max(trajmelt['layers']) - trajmelt['layers']\n",
    "trajmelt.to_csv(analysisfolder + \"Data/MonteCarlo/trajectories.csv\")\n",
    "\n",
    "for i, d in enumerate(doseresponses):\n",
    "    d['unit'] = i\n",
    "    d['dose'] = np.log10(d.index)\n",
    "dose_pd = pd.concat(doseresponses)\n",
    "dosemelt = pd.melt(dose_pd, id_vars=[\"dose\", \"unit\", 'rel exp'], var_name=\"layers\")\n",
    "dosemelt.to_csv(analysisfolder + \"Data/MonteCarlo/doseresponses.csv\")\n",
    "\n",
    "trajmelt = trajmelt[trajmelt.layers < 10]\n",
    "sns.tsplot(data=trajmelt, time=\"time\", unit=\"unit\", condition=\"layers\", value=\"value\", err_style=[\"boot_traces\"], ci=[95])\n",
    "plt.show()\n",
    "\n",
    "dosemelt = dosemelt[dosemelt.layers < 10]\n",
    "sns.tsplot(data=dosemelt, time=\"dose\", unit=\"unit\", condition=\"layers\", value=\"value\", err_style=[\"ci_band\"], ci=[95])\n",
    "plt.show()"
   ]
  },
  {
   "cell_type": "markdown",
   "metadata": {},
   "source": [
    "<h1> Fancy plotting of parameters vs metrics </h1>"
   ]
  },
  {
   "cell_type": "code",
   "execution_count": null,
   "metadata": {
    "collapsed": false
   },
   "outputs": [],
   "source": [
    "sns.set_style(\"whitegrid\")\n",
    "layer1 = test.stack(level=0).unstack()[0]\n",
    "layers = []\n",
    "for l in range(1,29):\n",
    "    layer = test.stack(level=0).unstack()[l]\n",
    "    layer['b'] = layer1['b']\n",
    "    layer['n'] = layer1['n']\n",
    "    layer['u'] = layer1['u']\n",
    "    layer['layer'] = l\n",
    "    layers.append(layer)\n",
    "layers = pd.concat(layers)\n",
    "#m = pd.melt(layer, id_vars=['a', 'b', 'k', 'n', 'u'], var_name=\"metric\", value_name=\"metric_value\")\n",
    "#m = pd.melt(m, id_vars=[\"metric\", \"metric_value\"], var_name=\"params\", value_name=\"param_value\")\n",
    "\n",
    "\n",
    "#grid = sns.FacetGrid(m, row=\"params\", col=\"metric\", hue=\"params\")\n",
    "\n",
    "#grid.map(plt.scatter, \"param_value\", \"metric_value\")\n",
    "#grid.fig.tight_layout(w_pad=1)\n",
    "#sns.pairplot(layers, hue=\"layer\", x_vars=[\"a\", \"b\", \"k\", \"n\", \"u\"], y_vars=[\"dr\", \"ttss\"], kind=\"reg\")\n",
    "plt.show()\n",
    "layers['metric'] = layers['dr']/layers['layer']\n",
    "#sns.jointplot(\"n\", \"metric\", data=layers)\n",
    "plt.show()\n",
    "#sns.tsplot(data=layers, time='n', value=\"metric\", unit=\"layer\")\n",
    "bins = np.arange(layers.n.min(), layers.n.max(), 0.05)\n",
    "groups = layers.groupby(pd.cut(layers.n, bins))\n",
    "g = groups.mean()\n",
    "gsd = groups.std()\n",
    "print g\n",
    "dynamicrange_dataframe = pd.DataFrame(\n",
    "                                        {'n': np.array(g['n']), \n",
    "                                       'metric': np.array(g['metric']),\n",
    "                                       'sd': np.array(gsd['metric'])\n",
    "                                        })\n",
    "plt.errorbar(dynamicrange_dataframe['n'], dynamicrange_dataframe['metric'], yerr=dynamicrange_dataframe['sd'])"
   ]
  },
  {
   "cell_type": "markdown",
   "metadata": {},
   "source": [
    "<h1> Fancy plotting of models with Seaborn </h1>"
   ]
  },
  {
   "cell_type": "code",
   "execution_count": null,
   "metadata": {
    "collapsed": false
   },
   "outputs": [],
   "source": [
    "import seaborn as sns\n",
    "trajectories = largeuniform_traj\n",
    "doseresponses = largeuniform_modelss\n",
    "for i, t in enumerate(trajectories):\n",
    "    t['unit'] = i\n",
    "    t['time'] = t.index\n",
    "traj_pd = pd.concat(trajectories)\n",
    "trajmelt = pd.melt(traj_pd, id_vars=[\"time\", \"unit\"], var_name=\"layers\")\n",
    "trajmelt['layers'] = max(trajmelt['layers']) - trajmelt['layers']\n",
    "trajmelt.to_csv(analysisfolder + \"Data/MonteCarlo/trajectories.csv\")\n",
    "\n",
    "for i, d in enumerate(doseresponses):\n",
    "    d['unit'] = i\n",
    "    d['dose'] = np.log10(d.index)\n",
    "dose_pd = pd.concat(doseresponses)\n",
    "dosemelt = pd.melt(dose_pd, id_vars=[\"dose\", \"unit\", 'rel exp'], var_name=\"layers\")\n",
    "dosemelt.to_csv(analysisfolder + \"Data/MonteCarlo/doseresponses.csv\")\n",
    "\n",
    "trajmelt = trajmelt[trajmelt.layers < 10]\n",
    "sns.tsplot(data=trajmelt, time=\"time\", unit=\"unit\", condition=\"layers\", value=\"value\", err_style=[\"ci_band\"], ci=[95])\n",
    "plt.show()\n",
    "\n",
    "dosemelt = dosemelt[dosemelt.layers < 10]\n",
    "sns.tsplot(data=dosemelt, time=\"dose\", unit=\"unit\", condition=\"layers\", value=\"value\", err_style=[\"ci_band\"], ci=[95])\n",
    "plt.show()"
   ]
  },
  {
   "cell_type": "markdown",
   "metadata": {},
   "source": [
    "<h3> Boot Strap </h3>"
   ]
  },
  {
   "cell_type": "code",
   "execution_count": 15,
   "metadata": {
    "collapsed": false
   },
   "outputs": [
    {
     "ename": "KeyboardInterrupt",
     "evalue": "",
     "output_type": "error",
     "traceback": [
      "\u001b[0;31m---------------------------------------------------------------------------\u001b[0m",
      "\u001b[0;31mKeyboardInterrupt\u001b[0m                         Traceback (most recent call last)",
      "\u001b[0;32m<ipython-input-16-61933cb30324>\u001b[0m in \u001b[0;36m<module>\u001b[0;34m()\u001b[0m\n\u001b[1;32m     17\u001b[0m     \u001b[0mtraj\u001b[0m\u001b[0;34m.\u001b[0m\u001b[0mplot\u001b[0m\u001b[0;34m(\u001b[0m\u001b[0;34m)\u001b[0m\u001b[0;34m\u001b[0m\u001b[0m\n\u001b[1;32m     18\u001b[0m     \u001b[0;31m#display.display(row)\u001b[0m\u001b[0;34m\u001b[0m\u001b[0;34m\u001b[0m\u001b[0m\n\u001b[0;32m---> 19\u001b[0;31m     \u001b[0mdisplay\u001b[0m\u001b[0;34m.\u001b[0m\u001b[0mdisplay\u001b[0m\u001b[0;34m(\u001b[0m\u001b[0mplt\u001b[0m\u001b[0;34m.\u001b[0m\u001b[0mgcf\u001b[0m\u001b[0;34m(\u001b[0m\u001b[0;34m)\u001b[0m\u001b[0;34m)\u001b[0m\u001b[0;34m\u001b[0m\u001b[0m\n\u001b[0m",
      "\u001b[0;32m/Users/soslab/anaconda/lib/python2.7/site-packages/IPython/core/display.pyc\u001b[0m in \u001b[0;36mdisplay\u001b[0;34m(*objs, **kwargs)\u001b[0m\n\u001b[1;32m    157\u001b[0m             \u001b[0mpublish_display_data\u001b[0m\u001b[0;34m(\u001b[0m\u001b[0mdata\u001b[0m\u001b[0;34m=\u001b[0m\u001b[0mobj\u001b[0m\u001b[0;34m,\u001b[0m \u001b[0mmetadata\u001b[0m\u001b[0;34m=\u001b[0m\u001b[0mmetadata\u001b[0m\u001b[0;34m)\u001b[0m\u001b[0;34m\u001b[0m\u001b[0m\n\u001b[1;32m    158\u001b[0m         \u001b[0;32melse\u001b[0m\u001b[0;34m:\u001b[0m\u001b[0;34m\u001b[0m\u001b[0m\n\u001b[0;32m--> 159\u001b[0;31m             \u001b[0mformat_dict\u001b[0m\u001b[0;34m,\u001b[0m \u001b[0mmd_dict\u001b[0m \u001b[0;34m=\u001b[0m \u001b[0mformat\u001b[0m\u001b[0;34m(\u001b[0m\u001b[0mobj\u001b[0m\u001b[0;34m,\u001b[0m \u001b[0minclude\u001b[0m\u001b[0;34m=\u001b[0m\u001b[0minclude\u001b[0m\u001b[0;34m,\u001b[0m \u001b[0mexclude\u001b[0m\u001b[0;34m=\u001b[0m\u001b[0mexclude\u001b[0m\u001b[0;34m)\u001b[0m\u001b[0;34m\u001b[0m\u001b[0m\n\u001b[0m\u001b[1;32m    160\u001b[0m             \u001b[0;32mif\u001b[0m \u001b[0;32mnot\u001b[0m \u001b[0mformat_dict\u001b[0m\u001b[0;34m:\u001b[0m\u001b[0;34m\u001b[0m\u001b[0m\n\u001b[1;32m    161\u001b[0m                 \u001b[0;31m# nothing to display (e.g. _ipython_display_ took over)\u001b[0m\u001b[0;34m\u001b[0m\u001b[0;34m\u001b[0m\u001b[0m\n",
      "\u001b[0;32m/Users/soslab/anaconda/lib/python2.7/site-packages/IPython/core/formatters.pyc\u001b[0m in \u001b[0;36mformat\u001b[0;34m(self, obj, include, exclude)\u001b[0m\n\u001b[1;32m    173\u001b[0m             \u001b[0mmd\u001b[0m \u001b[0;34m=\u001b[0m \u001b[0mNone\u001b[0m\u001b[0;34m\u001b[0m\u001b[0m\n\u001b[1;32m    174\u001b[0m             \u001b[0;32mtry\u001b[0m\u001b[0;34m:\u001b[0m\u001b[0;34m\u001b[0m\u001b[0m\n\u001b[0;32m--> 175\u001b[0;31m                 \u001b[0mdata\u001b[0m \u001b[0;34m=\u001b[0m \u001b[0mformatter\u001b[0m\u001b[0;34m(\u001b[0m\u001b[0mobj\u001b[0m\u001b[0;34m)\u001b[0m\u001b[0;34m\u001b[0m\u001b[0m\n\u001b[0m\u001b[1;32m    176\u001b[0m             \u001b[0;32mexcept\u001b[0m\u001b[0;34m:\u001b[0m\u001b[0;34m\u001b[0m\u001b[0m\n\u001b[1;32m    177\u001b[0m                 \u001b[0;31m# FIXME: log the exception\u001b[0m\u001b[0;34m\u001b[0m\u001b[0;34m\u001b[0m\u001b[0m\n",
      "\u001b[0;32m/Users/soslab/anaconda/lib/python2.7/site-packages/IPython/core/formatters.pyc\u001b[0m in \u001b[0;36m__call__\u001b[0;34m(self, obj)\u001b[0m\n",
      "\u001b[0;32m/Users/soslab/anaconda/lib/python2.7/site-packages/IPython/core/formatters.pyc\u001b[0m in \u001b[0;36mcatch_format_error\u001b[0;34m(method, self, *args, **kwargs)\u001b[0m\n\u001b[1;32m    218\u001b[0m     \u001b[0;34m\"\"\"show traceback on failed format call\"\"\"\u001b[0m\u001b[0;34m\u001b[0m\u001b[0m\n\u001b[1;32m    219\u001b[0m     \u001b[0;32mtry\u001b[0m\u001b[0;34m:\u001b[0m\u001b[0;34m\u001b[0m\u001b[0m\n\u001b[0;32m--> 220\u001b[0;31m         \u001b[0mr\u001b[0m \u001b[0;34m=\u001b[0m \u001b[0mmethod\u001b[0m\u001b[0;34m(\u001b[0m\u001b[0mself\u001b[0m\u001b[0;34m,\u001b[0m \u001b[0;34m*\u001b[0m\u001b[0margs\u001b[0m\u001b[0;34m,\u001b[0m \u001b[0;34m**\u001b[0m\u001b[0mkwargs\u001b[0m\u001b[0;34m)\u001b[0m\u001b[0;34m\u001b[0m\u001b[0m\n\u001b[0m\u001b[1;32m    221\u001b[0m     \u001b[0;32mexcept\u001b[0m \u001b[0mNotImplementedError\u001b[0m\u001b[0;34m:\u001b[0m\u001b[0;34m\u001b[0m\u001b[0m\n\u001b[1;32m    222\u001b[0m         \u001b[0;31m# don't warn on NotImplementedErrors\u001b[0m\u001b[0;34m\u001b[0m\u001b[0;34m\u001b[0m\u001b[0m\n",
      "\u001b[0;32m/Users/soslab/anaconda/lib/python2.7/site-packages/IPython/core/formatters.pyc\u001b[0m in \u001b[0;36m__call__\u001b[0;34m(self, obj)\u001b[0m\n\u001b[1;32m    335\u001b[0m                 \u001b[0;32mpass\u001b[0m\u001b[0;34m\u001b[0m\u001b[0m\n\u001b[1;32m    336\u001b[0m             \u001b[0;32melse\u001b[0m\u001b[0;34m:\u001b[0m\u001b[0;34m\u001b[0m\u001b[0m\n\u001b[0;32m--> 337\u001b[0;31m                 \u001b[0;32mreturn\u001b[0m \u001b[0mprinter\u001b[0m\u001b[0;34m(\u001b[0m\u001b[0mobj\u001b[0m\u001b[0;34m)\u001b[0m\u001b[0;34m\u001b[0m\u001b[0m\n\u001b[0m\u001b[1;32m    338\u001b[0m             \u001b[0;31m# Finally look for special method names\u001b[0m\u001b[0;34m\u001b[0m\u001b[0;34m\u001b[0m\u001b[0m\n\u001b[1;32m    339\u001b[0m             \u001b[0mmethod\u001b[0m \u001b[0;34m=\u001b[0m \u001b[0m_safe_get_formatter_method\u001b[0m\u001b[0;34m(\u001b[0m\u001b[0mobj\u001b[0m\u001b[0;34m,\u001b[0m \u001b[0mself\u001b[0m\u001b[0;34m.\u001b[0m\u001b[0mprint_method\u001b[0m\u001b[0;34m)\u001b[0m\u001b[0;34m\u001b[0m\u001b[0m\n",
      "\u001b[0;32m/Users/soslab/anaconda/lib/python2.7/site-packages/IPython/core/pylabtools.pyc\u001b[0m in \u001b[0;36m<lambda>\u001b[0;34m(fig)\u001b[0m\n\u001b[1;32m    205\u001b[0m \u001b[0;34m\u001b[0m\u001b[0m\n\u001b[1;32m    206\u001b[0m     \u001b[0;32mif\u001b[0m \u001b[0;34m'png'\u001b[0m \u001b[0;32min\u001b[0m \u001b[0mformats\u001b[0m\u001b[0;34m:\u001b[0m\u001b[0;34m\u001b[0m\u001b[0m\n\u001b[0;32m--> 207\u001b[0;31m         \u001b[0mpng_formatter\u001b[0m\u001b[0;34m.\u001b[0m\u001b[0mfor_type\u001b[0m\u001b[0;34m(\u001b[0m\u001b[0mFigure\u001b[0m\u001b[0;34m,\u001b[0m \u001b[0;32mlambda\u001b[0m \u001b[0mfig\u001b[0m\u001b[0;34m:\u001b[0m \u001b[0mprint_figure\u001b[0m\u001b[0;34m(\u001b[0m\u001b[0mfig\u001b[0m\u001b[0;34m,\u001b[0m \u001b[0;34m'png'\u001b[0m\u001b[0;34m,\u001b[0m \u001b[0;34m**\u001b[0m\u001b[0mkwargs\u001b[0m\u001b[0;34m)\u001b[0m\u001b[0;34m)\u001b[0m\u001b[0;34m\u001b[0m\u001b[0m\n\u001b[0m\u001b[1;32m    208\u001b[0m     \u001b[0;32mif\u001b[0m \u001b[0;34m'retina'\u001b[0m \u001b[0;32min\u001b[0m \u001b[0mformats\u001b[0m \u001b[0;32mor\u001b[0m \u001b[0;34m'png2x'\u001b[0m \u001b[0;32min\u001b[0m \u001b[0mformats\u001b[0m\u001b[0;34m:\u001b[0m\u001b[0;34m\u001b[0m\u001b[0m\n\u001b[1;32m    209\u001b[0m         \u001b[0mpng_formatter\u001b[0m\u001b[0;34m.\u001b[0m\u001b[0mfor_type\u001b[0m\u001b[0;34m(\u001b[0m\u001b[0mFigure\u001b[0m\u001b[0;34m,\u001b[0m \u001b[0;32mlambda\u001b[0m \u001b[0mfig\u001b[0m\u001b[0;34m:\u001b[0m \u001b[0mretina_figure\u001b[0m\u001b[0;34m(\u001b[0m\u001b[0mfig\u001b[0m\u001b[0;34m,\u001b[0m \u001b[0;34m**\u001b[0m\u001b[0mkwargs\u001b[0m\u001b[0;34m)\u001b[0m\u001b[0;34m)\u001b[0m\u001b[0;34m\u001b[0m\u001b[0m\n",
      "\u001b[0;32m/Users/soslab/anaconda/lib/python2.7/site-packages/IPython/core/pylabtools.pyc\u001b[0m in \u001b[0;36mprint_figure\u001b[0;34m(fig, fmt, bbox_inches, **kwargs)\u001b[0m\n\u001b[1;32m    115\u001b[0m \u001b[0;34m\u001b[0m\u001b[0m\n\u001b[1;32m    116\u001b[0m     \u001b[0mbytes_io\u001b[0m \u001b[0;34m=\u001b[0m \u001b[0mBytesIO\u001b[0m\u001b[0;34m(\u001b[0m\u001b[0;34m)\u001b[0m\u001b[0;34m\u001b[0m\u001b[0m\n\u001b[0;32m--> 117\u001b[0;31m     \u001b[0mfig\u001b[0m\u001b[0;34m.\u001b[0m\u001b[0mcanvas\u001b[0m\u001b[0;34m.\u001b[0m\u001b[0mprint_figure\u001b[0m\u001b[0;34m(\u001b[0m\u001b[0mbytes_io\u001b[0m\u001b[0;34m,\u001b[0m \u001b[0;34m**\u001b[0m\u001b[0mkw\u001b[0m\u001b[0;34m)\u001b[0m\u001b[0;34m\u001b[0m\u001b[0m\n\u001b[0m\u001b[1;32m    118\u001b[0m     \u001b[0mdata\u001b[0m \u001b[0;34m=\u001b[0m \u001b[0mbytes_io\u001b[0m\u001b[0;34m.\u001b[0m\u001b[0mgetvalue\u001b[0m\u001b[0;34m(\u001b[0m\u001b[0;34m)\u001b[0m\u001b[0;34m\u001b[0m\u001b[0m\n\u001b[1;32m    119\u001b[0m     \u001b[0;32mif\u001b[0m \u001b[0mfmt\u001b[0m \u001b[0;34m==\u001b[0m \u001b[0;34m'svg'\u001b[0m\u001b[0;34m:\u001b[0m\u001b[0;34m\u001b[0m\u001b[0m\n",
      "\u001b[0;32m/Users/soslab/anaconda/lib/python2.7/site-packages/matplotlib/backend_bases.pyc\u001b[0m in \u001b[0;36mprint_figure\u001b[0;34m(self, filename, dpi, facecolor, edgecolor, orientation, format, **kwargs)\u001b[0m\n\u001b[1;32m   2156\u001b[0m                     \u001b[0morientation\u001b[0m\u001b[0;34m=\u001b[0m\u001b[0morientation\u001b[0m\u001b[0;34m,\u001b[0m\u001b[0;34m\u001b[0m\u001b[0m\n\u001b[1;32m   2157\u001b[0m                     \u001b[0mdryrun\u001b[0m\u001b[0;34m=\u001b[0m\u001b[0mTrue\u001b[0m\u001b[0;34m,\u001b[0m\u001b[0;34m\u001b[0m\u001b[0m\n\u001b[0;32m-> 2158\u001b[0;31m                     **kwargs)\n\u001b[0m\u001b[1;32m   2159\u001b[0m                 \u001b[0mrenderer\u001b[0m \u001b[0;34m=\u001b[0m \u001b[0mself\u001b[0m\u001b[0;34m.\u001b[0m\u001b[0mfigure\u001b[0m\u001b[0;34m.\u001b[0m\u001b[0m_cachedRenderer\u001b[0m\u001b[0;34m\u001b[0m\u001b[0m\n\u001b[1;32m   2160\u001b[0m                 \u001b[0mbbox_inches\u001b[0m \u001b[0;34m=\u001b[0m \u001b[0mself\u001b[0m\u001b[0;34m.\u001b[0m\u001b[0mfigure\u001b[0m\u001b[0;34m.\u001b[0m\u001b[0mget_tightbbox\u001b[0m\u001b[0;34m(\u001b[0m\u001b[0mrenderer\u001b[0m\u001b[0;34m)\u001b[0m\u001b[0;34m\u001b[0m\u001b[0m\n",
      "\u001b[0;32m/Users/soslab/anaconda/lib/python2.7/site-packages/matplotlib/backends/backend_agg.pyc\u001b[0m in \u001b[0;36mprint_png\u001b[0;34m(self, filename_or_obj, *args, **kwargs)\u001b[0m\n\u001b[1;32m    519\u001b[0m \u001b[0;34m\u001b[0m\u001b[0m\n\u001b[1;32m    520\u001b[0m     \u001b[0;32mdef\u001b[0m \u001b[0mprint_png\u001b[0m\u001b[0;34m(\u001b[0m\u001b[0mself\u001b[0m\u001b[0;34m,\u001b[0m \u001b[0mfilename_or_obj\u001b[0m\u001b[0;34m,\u001b[0m \u001b[0;34m*\u001b[0m\u001b[0margs\u001b[0m\u001b[0;34m,\u001b[0m \u001b[0;34m**\u001b[0m\u001b[0mkwargs\u001b[0m\u001b[0;34m)\u001b[0m\u001b[0;34m:\u001b[0m\u001b[0;34m\u001b[0m\u001b[0m\n\u001b[0;32m--> 521\u001b[0;31m         \u001b[0mFigureCanvasAgg\u001b[0m\u001b[0;34m.\u001b[0m\u001b[0mdraw\u001b[0m\u001b[0;34m(\u001b[0m\u001b[0mself\u001b[0m\u001b[0;34m)\u001b[0m\u001b[0;34m\u001b[0m\u001b[0m\n\u001b[0m\u001b[1;32m    522\u001b[0m         \u001b[0mrenderer\u001b[0m \u001b[0;34m=\u001b[0m \u001b[0mself\u001b[0m\u001b[0;34m.\u001b[0m\u001b[0mget_renderer\u001b[0m\u001b[0;34m(\u001b[0m\u001b[0;34m)\u001b[0m\u001b[0;34m\u001b[0m\u001b[0m\n\u001b[1;32m    523\u001b[0m         \u001b[0moriginal_dpi\u001b[0m \u001b[0;34m=\u001b[0m \u001b[0mrenderer\u001b[0m\u001b[0;34m.\u001b[0m\u001b[0mdpi\u001b[0m\u001b[0;34m\u001b[0m\u001b[0m\n",
      "\u001b[0;32m/Users/soslab/anaconda/lib/python2.7/site-packages/matplotlib/backends/backend_agg.pyc\u001b[0m in \u001b[0;36mdraw\u001b[0;34m(self)\u001b[0m\n\u001b[1;32m    467\u001b[0m \u001b[0;34m\u001b[0m\u001b[0m\n\u001b[1;32m    468\u001b[0m         \u001b[0;32mtry\u001b[0m\u001b[0;34m:\u001b[0m\u001b[0;34m\u001b[0m\u001b[0m\n\u001b[0;32m--> 469\u001b[0;31m             \u001b[0mself\u001b[0m\u001b[0;34m.\u001b[0m\u001b[0mfigure\u001b[0m\u001b[0;34m.\u001b[0m\u001b[0mdraw\u001b[0m\u001b[0;34m(\u001b[0m\u001b[0mself\u001b[0m\u001b[0;34m.\u001b[0m\u001b[0mrenderer\u001b[0m\u001b[0;34m)\u001b[0m\u001b[0;34m\u001b[0m\u001b[0m\n\u001b[0m\u001b[1;32m    470\u001b[0m         \u001b[0;32mfinally\u001b[0m\u001b[0;34m:\u001b[0m\u001b[0;34m\u001b[0m\u001b[0m\n\u001b[1;32m    471\u001b[0m             \u001b[0mRendererAgg\u001b[0m\u001b[0;34m.\u001b[0m\u001b[0mlock\u001b[0m\u001b[0;34m.\u001b[0m\u001b[0mrelease\u001b[0m\u001b[0;34m(\u001b[0m\u001b[0;34m)\u001b[0m\u001b[0;34m\u001b[0m\u001b[0m\n",
      "\u001b[0;32m/Users/soslab/anaconda/lib/python2.7/site-packages/matplotlib/artist.pyc\u001b[0m in \u001b[0;36mdraw_wrapper\u001b[0;34m(artist, renderer, *args, **kwargs)\u001b[0m\n\u001b[1;32m     57\u001b[0m     \u001b[0;32mdef\u001b[0m \u001b[0mdraw_wrapper\u001b[0m\u001b[0;34m(\u001b[0m\u001b[0martist\u001b[0m\u001b[0;34m,\u001b[0m \u001b[0mrenderer\u001b[0m\u001b[0;34m,\u001b[0m \u001b[0;34m*\u001b[0m\u001b[0margs\u001b[0m\u001b[0;34m,\u001b[0m \u001b[0;34m**\u001b[0m\u001b[0mkwargs\u001b[0m\u001b[0;34m)\u001b[0m\u001b[0;34m:\u001b[0m\u001b[0;34m\u001b[0m\u001b[0m\n\u001b[1;32m     58\u001b[0m         \u001b[0mbefore\u001b[0m\u001b[0;34m(\u001b[0m\u001b[0martist\u001b[0m\u001b[0;34m,\u001b[0m \u001b[0mrenderer\u001b[0m\u001b[0;34m)\u001b[0m\u001b[0;34m\u001b[0m\u001b[0m\n\u001b[0;32m---> 59\u001b[0;31m         \u001b[0mdraw\u001b[0m\u001b[0;34m(\u001b[0m\u001b[0martist\u001b[0m\u001b[0;34m,\u001b[0m \u001b[0mrenderer\u001b[0m\u001b[0;34m,\u001b[0m \u001b[0;34m*\u001b[0m\u001b[0margs\u001b[0m\u001b[0;34m,\u001b[0m \u001b[0;34m**\u001b[0m\u001b[0mkwargs\u001b[0m\u001b[0;34m)\u001b[0m\u001b[0;34m\u001b[0m\u001b[0m\n\u001b[0m\u001b[1;32m     60\u001b[0m         \u001b[0mafter\u001b[0m\u001b[0;34m(\u001b[0m\u001b[0martist\u001b[0m\u001b[0;34m,\u001b[0m \u001b[0mrenderer\u001b[0m\u001b[0;34m)\u001b[0m\u001b[0;34m\u001b[0m\u001b[0m\n\u001b[1;32m     61\u001b[0m \u001b[0;34m\u001b[0m\u001b[0m\n",
      "\u001b[0;32m/Users/soslab/anaconda/lib/python2.7/site-packages/matplotlib/figure.pyc\u001b[0m in \u001b[0;36mdraw\u001b[0;34m(self, renderer)\u001b[0m\n\u001b[1;32m   1083\u001b[0m         \u001b[0mdsu\u001b[0m\u001b[0;34m.\u001b[0m\u001b[0msort\u001b[0m\u001b[0;34m(\u001b[0m\u001b[0mkey\u001b[0m\u001b[0;34m=\u001b[0m\u001b[0mitemgetter\u001b[0m\u001b[0;34m(\u001b[0m\u001b[0;36m0\u001b[0m\u001b[0;34m)\u001b[0m\u001b[0;34m)\u001b[0m\u001b[0;34m\u001b[0m\u001b[0m\n\u001b[1;32m   1084\u001b[0m         \u001b[0;32mfor\u001b[0m \u001b[0mzorder\u001b[0m\u001b[0;34m,\u001b[0m \u001b[0ma\u001b[0m\u001b[0;34m,\u001b[0m \u001b[0mfunc\u001b[0m\u001b[0;34m,\u001b[0m \u001b[0margs\u001b[0m \u001b[0;32min\u001b[0m \u001b[0mdsu\u001b[0m\u001b[0;34m:\u001b[0m\u001b[0;34m\u001b[0m\u001b[0m\n\u001b[0;32m-> 1085\u001b[0;31m             \u001b[0mfunc\u001b[0m\u001b[0;34m(\u001b[0m\u001b[0;34m*\u001b[0m\u001b[0margs\u001b[0m\u001b[0;34m)\u001b[0m\u001b[0;34m\u001b[0m\u001b[0m\n\u001b[0m\u001b[1;32m   1086\u001b[0m \u001b[0;34m\u001b[0m\u001b[0m\n\u001b[1;32m   1087\u001b[0m         \u001b[0mrenderer\u001b[0m\u001b[0;34m.\u001b[0m\u001b[0mclose_group\u001b[0m\u001b[0;34m(\u001b[0m\u001b[0;34m'figure'\u001b[0m\u001b[0;34m)\u001b[0m\u001b[0;34m\u001b[0m\u001b[0m\n",
      "\u001b[0;32m/Users/soslab/anaconda/lib/python2.7/site-packages/matplotlib/artist.pyc\u001b[0m in \u001b[0;36mdraw_wrapper\u001b[0;34m(artist, renderer, *args, **kwargs)\u001b[0m\n\u001b[1;32m     57\u001b[0m     \u001b[0;32mdef\u001b[0m \u001b[0mdraw_wrapper\u001b[0m\u001b[0;34m(\u001b[0m\u001b[0martist\u001b[0m\u001b[0;34m,\u001b[0m \u001b[0mrenderer\u001b[0m\u001b[0;34m,\u001b[0m \u001b[0;34m*\u001b[0m\u001b[0margs\u001b[0m\u001b[0;34m,\u001b[0m \u001b[0;34m**\u001b[0m\u001b[0mkwargs\u001b[0m\u001b[0;34m)\u001b[0m\u001b[0;34m:\u001b[0m\u001b[0;34m\u001b[0m\u001b[0m\n\u001b[1;32m     58\u001b[0m         \u001b[0mbefore\u001b[0m\u001b[0;34m(\u001b[0m\u001b[0martist\u001b[0m\u001b[0;34m,\u001b[0m \u001b[0mrenderer\u001b[0m\u001b[0;34m)\u001b[0m\u001b[0;34m\u001b[0m\u001b[0m\n\u001b[0;32m---> 59\u001b[0;31m         \u001b[0mdraw\u001b[0m\u001b[0;34m(\u001b[0m\u001b[0martist\u001b[0m\u001b[0;34m,\u001b[0m \u001b[0mrenderer\u001b[0m\u001b[0;34m,\u001b[0m \u001b[0;34m*\u001b[0m\u001b[0margs\u001b[0m\u001b[0;34m,\u001b[0m \u001b[0;34m**\u001b[0m\u001b[0mkwargs\u001b[0m\u001b[0;34m)\u001b[0m\u001b[0;34m\u001b[0m\u001b[0m\n\u001b[0m\u001b[1;32m     60\u001b[0m         \u001b[0mafter\u001b[0m\u001b[0;34m(\u001b[0m\u001b[0martist\u001b[0m\u001b[0;34m,\u001b[0m \u001b[0mrenderer\u001b[0m\u001b[0;34m)\u001b[0m\u001b[0;34m\u001b[0m\u001b[0m\n\u001b[1;32m     61\u001b[0m \u001b[0;34m\u001b[0m\u001b[0m\n",
      "\u001b[0;32m/Users/soslab/anaconda/lib/python2.7/site-packages/matplotlib/axes/_base.pyc\u001b[0m in \u001b[0;36mdraw\u001b[0;34m(self, renderer, inframe)\u001b[0m\n\u001b[1;32m   2108\u001b[0m \u001b[0;34m\u001b[0m\u001b[0m\n\u001b[1;32m   2109\u001b[0m         \u001b[0;32mfor\u001b[0m \u001b[0mzorder\u001b[0m\u001b[0;34m,\u001b[0m \u001b[0ma\u001b[0m \u001b[0;32min\u001b[0m \u001b[0mdsu\u001b[0m\u001b[0;34m:\u001b[0m\u001b[0;34m\u001b[0m\u001b[0m\n\u001b[0;32m-> 2110\u001b[0;31m             \u001b[0ma\u001b[0m\u001b[0;34m.\u001b[0m\u001b[0mdraw\u001b[0m\u001b[0;34m(\u001b[0m\u001b[0mrenderer\u001b[0m\u001b[0;34m)\u001b[0m\u001b[0;34m\u001b[0m\u001b[0m\n\u001b[0m\u001b[1;32m   2111\u001b[0m \u001b[0;34m\u001b[0m\u001b[0m\n\u001b[1;32m   2112\u001b[0m         \u001b[0mrenderer\u001b[0m\u001b[0;34m.\u001b[0m\u001b[0mclose_group\u001b[0m\u001b[0;34m(\u001b[0m\u001b[0;34m'axes'\u001b[0m\u001b[0;34m)\u001b[0m\u001b[0;34m\u001b[0m\u001b[0m\n",
      "\u001b[0;32m/Users/soslab/anaconda/lib/python2.7/site-packages/matplotlib/artist.pyc\u001b[0m in \u001b[0;36mdraw_wrapper\u001b[0;34m(artist, renderer, *args, **kwargs)\u001b[0m\n\u001b[1;32m     57\u001b[0m     \u001b[0;32mdef\u001b[0m \u001b[0mdraw_wrapper\u001b[0m\u001b[0;34m(\u001b[0m\u001b[0martist\u001b[0m\u001b[0;34m,\u001b[0m \u001b[0mrenderer\u001b[0m\u001b[0;34m,\u001b[0m \u001b[0;34m*\u001b[0m\u001b[0margs\u001b[0m\u001b[0;34m,\u001b[0m \u001b[0;34m**\u001b[0m\u001b[0mkwargs\u001b[0m\u001b[0;34m)\u001b[0m\u001b[0;34m:\u001b[0m\u001b[0;34m\u001b[0m\u001b[0m\n\u001b[1;32m     58\u001b[0m         \u001b[0mbefore\u001b[0m\u001b[0;34m(\u001b[0m\u001b[0martist\u001b[0m\u001b[0;34m,\u001b[0m \u001b[0mrenderer\u001b[0m\u001b[0;34m)\u001b[0m\u001b[0;34m\u001b[0m\u001b[0m\n\u001b[0;32m---> 59\u001b[0;31m         \u001b[0mdraw\u001b[0m\u001b[0;34m(\u001b[0m\u001b[0martist\u001b[0m\u001b[0;34m,\u001b[0m \u001b[0mrenderer\u001b[0m\u001b[0;34m,\u001b[0m \u001b[0;34m*\u001b[0m\u001b[0margs\u001b[0m\u001b[0;34m,\u001b[0m \u001b[0;34m**\u001b[0m\u001b[0mkwargs\u001b[0m\u001b[0;34m)\u001b[0m\u001b[0;34m\u001b[0m\u001b[0m\n\u001b[0m\u001b[1;32m     60\u001b[0m         \u001b[0mafter\u001b[0m\u001b[0;34m(\u001b[0m\u001b[0martist\u001b[0m\u001b[0;34m,\u001b[0m \u001b[0mrenderer\u001b[0m\u001b[0;34m)\u001b[0m\u001b[0;34m\u001b[0m\u001b[0m\n\u001b[1;32m     61\u001b[0m \u001b[0;34m\u001b[0m\u001b[0m\n",
      "\u001b[0;32m/Users/soslab/anaconda/lib/python2.7/site-packages/matplotlib/axis.pyc\u001b[0m in \u001b[0;36mdraw\u001b[0;34m(self, renderer, *args, **kwargs)\u001b[0m\n\u001b[1;32m   1117\u001b[0m \u001b[0;34m\u001b[0m\u001b[0m\n\u001b[1;32m   1118\u001b[0m         \u001b[0;32mfor\u001b[0m \u001b[0mtick\u001b[0m \u001b[0;32min\u001b[0m \u001b[0mticks_to_draw\u001b[0m\u001b[0;34m:\u001b[0m\u001b[0;34m\u001b[0m\u001b[0m\n\u001b[0;32m-> 1119\u001b[0;31m             \u001b[0mtick\u001b[0m\u001b[0;34m.\u001b[0m\u001b[0mdraw\u001b[0m\u001b[0;34m(\u001b[0m\u001b[0mrenderer\u001b[0m\u001b[0;34m)\u001b[0m\u001b[0;34m\u001b[0m\u001b[0m\n\u001b[0m\u001b[1;32m   1120\u001b[0m \u001b[0;34m\u001b[0m\u001b[0m\n\u001b[1;32m   1121\u001b[0m         \u001b[0;31m# scale up the axis label box to also find the neighbors, not\u001b[0m\u001b[0;34m\u001b[0m\u001b[0;34m\u001b[0m\u001b[0m\n",
      "\u001b[0;32m/Users/soslab/anaconda/lib/python2.7/site-packages/matplotlib/artist.pyc\u001b[0m in \u001b[0;36mdraw_wrapper\u001b[0;34m(artist, renderer, *args, **kwargs)\u001b[0m\n\u001b[1;32m     57\u001b[0m     \u001b[0;32mdef\u001b[0m \u001b[0mdraw_wrapper\u001b[0m\u001b[0;34m(\u001b[0m\u001b[0martist\u001b[0m\u001b[0;34m,\u001b[0m \u001b[0mrenderer\u001b[0m\u001b[0;34m,\u001b[0m \u001b[0;34m*\u001b[0m\u001b[0margs\u001b[0m\u001b[0;34m,\u001b[0m \u001b[0;34m**\u001b[0m\u001b[0mkwargs\u001b[0m\u001b[0;34m)\u001b[0m\u001b[0;34m:\u001b[0m\u001b[0;34m\u001b[0m\u001b[0m\n\u001b[1;32m     58\u001b[0m         \u001b[0mbefore\u001b[0m\u001b[0;34m(\u001b[0m\u001b[0martist\u001b[0m\u001b[0;34m,\u001b[0m \u001b[0mrenderer\u001b[0m\u001b[0;34m)\u001b[0m\u001b[0;34m\u001b[0m\u001b[0m\n\u001b[0;32m---> 59\u001b[0;31m         \u001b[0mdraw\u001b[0m\u001b[0;34m(\u001b[0m\u001b[0martist\u001b[0m\u001b[0;34m,\u001b[0m \u001b[0mrenderer\u001b[0m\u001b[0;34m,\u001b[0m \u001b[0;34m*\u001b[0m\u001b[0margs\u001b[0m\u001b[0;34m,\u001b[0m \u001b[0;34m**\u001b[0m\u001b[0mkwargs\u001b[0m\u001b[0;34m)\u001b[0m\u001b[0;34m\u001b[0m\u001b[0m\n\u001b[0m\u001b[1;32m     60\u001b[0m         \u001b[0mafter\u001b[0m\u001b[0;34m(\u001b[0m\u001b[0martist\u001b[0m\u001b[0;34m,\u001b[0m \u001b[0mrenderer\u001b[0m\u001b[0;34m)\u001b[0m\u001b[0;34m\u001b[0m\u001b[0m\n\u001b[1;32m     61\u001b[0m \u001b[0;34m\u001b[0m\u001b[0m\n",
      "\u001b[0;32m/Users/soslab/anaconda/lib/python2.7/site-packages/matplotlib/axis.pyc\u001b[0m in \u001b[0;36mdraw\u001b[0;34m(self, renderer)\u001b[0m\n\u001b[1;32m    242\u001b[0m                 \u001b[0mself\u001b[0m\u001b[0;34m.\u001b[0m\u001b[0mgridline\u001b[0m\u001b[0;34m.\u001b[0m\u001b[0mdraw\u001b[0m\u001b[0;34m(\u001b[0m\u001b[0mrenderer\u001b[0m\u001b[0;34m)\u001b[0m\u001b[0;34m\u001b[0m\u001b[0m\n\u001b[1;32m    243\u001b[0m             \u001b[0;32mif\u001b[0m \u001b[0mself\u001b[0m\u001b[0;34m.\u001b[0m\u001b[0mtick1On\u001b[0m\u001b[0;34m:\u001b[0m\u001b[0;34m\u001b[0m\u001b[0m\n\u001b[0;32m--> 244\u001b[0;31m                 \u001b[0mself\u001b[0m\u001b[0;34m.\u001b[0m\u001b[0mtick1line\u001b[0m\u001b[0;34m.\u001b[0m\u001b[0mdraw\u001b[0m\u001b[0;34m(\u001b[0m\u001b[0mrenderer\u001b[0m\u001b[0;34m)\u001b[0m\u001b[0;34m\u001b[0m\u001b[0m\n\u001b[0m\u001b[1;32m    245\u001b[0m             \u001b[0;32mif\u001b[0m \u001b[0mself\u001b[0m\u001b[0;34m.\u001b[0m\u001b[0mtick2On\u001b[0m\u001b[0;34m:\u001b[0m\u001b[0;34m\u001b[0m\u001b[0m\n\u001b[1;32m    246\u001b[0m                 \u001b[0mself\u001b[0m\u001b[0;34m.\u001b[0m\u001b[0mtick2line\u001b[0m\u001b[0;34m.\u001b[0m\u001b[0mdraw\u001b[0m\u001b[0;34m(\u001b[0m\u001b[0mrenderer\u001b[0m\u001b[0;34m)\u001b[0m\u001b[0;34m\u001b[0m\u001b[0m\n",
      "\u001b[0;32m/Users/soslab/anaconda/lib/python2.7/site-packages/matplotlib/artist.pyc\u001b[0m in \u001b[0;36mdraw_wrapper\u001b[0;34m(artist, renderer, *args, **kwargs)\u001b[0m\n\u001b[1;32m     57\u001b[0m     \u001b[0;32mdef\u001b[0m \u001b[0mdraw_wrapper\u001b[0m\u001b[0;34m(\u001b[0m\u001b[0martist\u001b[0m\u001b[0;34m,\u001b[0m \u001b[0mrenderer\u001b[0m\u001b[0;34m,\u001b[0m \u001b[0;34m*\u001b[0m\u001b[0margs\u001b[0m\u001b[0;34m,\u001b[0m \u001b[0;34m**\u001b[0m\u001b[0mkwargs\u001b[0m\u001b[0;34m)\u001b[0m\u001b[0;34m:\u001b[0m\u001b[0;34m\u001b[0m\u001b[0m\n\u001b[1;32m     58\u001b[0m         \u001b[0mbefore\u001b[0m\u001b[0;34m(\u001b[0m\u001b[0martist\u001b[0m\u001b[0;34m,\u001b[0m \u001b[0mrenderer\u001b[0m\u001b[0;34m)\u001b[0m\u001b[0;34m\u001b[0m\u001b[0m\n\u001b[0;32m---> 59\u001b[0;31m         \u001b[0mdraw\u001b[0m\u001b[0;34m(\u001b[0m\u001b[0martist\u001b[0m\u001b[0;34m,\u001b[0m \u001b[0mrenderer\u001b[0m\u001b[0;34m,\u001b[0m \u001b[0;34m*\u001b[0m\u001b[0margs\u001b[0m\u001b[0;34m,\u001b[0m \u001b[0;34m**\u001b[0m\u001b[0mkwargs\u001b[0m\u001b[0;34m)\u001b[0m\u001b[0;34m\u001b[0m\u001b[0m\n\u001b[0m\u001b[1;32m     60\u001b[0m         \u001b[0mafter\u001b[0m\u001b[0;34m(\u001b[0m\u001b[0martist\u001b[0m\u001b[0;34m,\u001b[0m \u001b[0mrenderer\u001b[0m\u001b[0;34m)\u001b[0m\u001b[0;34m\u001b[0m\u001b[0m\n\u001b[1;32m     61\u001b[0m \u001b[0;34m\u001b[0m\u001b[0m\n",
      "\u001b[0;32m/Users/soslab/anaconda/lib/python2.7/site-packages/matplotlib/lines.pyc\u001b[0m in \u001b[0;36mdraw\u001b[0;34m(self, renderer)\u001b[0m\n\u001b[1;32m    729\u001b[0m \u001b[0;34m\u001b[0m\u001b[0m\n\u001b[1;32m    730\u001b[0m             \u001b[0mmarker\u001b[0m \u001b[0;34m=\u001b[0m \u001b[0mself\u001b[0m\u001b[0;34m.\u001b[0m\u001b[0m_marker\u001b[0m\u001b[0;34m\u001b[0m\u001b[0m\n\u001b[0;32m--> 731\u001b[0;31m             \u001b[0mtpath\u001b[0m\u001b[0;34m,\u001b[0m \u001b[0maffine\u001b[0m \u001b[0;34m=\u001b[0m \u001b[0mtransf_path\u001b[0m\u001b[0;34m.\u001b[0m\u001b[0mget_transformed_points_and_affine\u001b[0m\u001b[0;34m(\u001b[0m\u001b[0;34m)\u001b[0m\u001b[0;34m\u001b[0m\u001b[0m\n\u001b[0m\u001b[1;32m    732\u001b[0m             \u001b[0;32mif\u001b[0m \u001b[0mlen\u001b[0m\u001b[0;34m(\u001b[0m\u001b[0mtpath\u001b[0m\u001b[0;34m.\u001b[0m\u001b[0mvertices\u001b[0m\u001b[0;34m)\u001b[0m\u001b[0;34m:\u001b[0m\u001b[0;34m\u001b[0m\u001b[0m\n\u001b[1;32m    733\u001b[0m                 \u001b[0;31m# subsample the markers if markevery is not None\u001b[0m\u001b[0;34m\u001b[0m\u001b[0;34m\u001b[0m\u001b[0m\n",
      "\u001b[0;32m/Users/soslab/anaconda/lib/python2.7/site-packages/matplotlib/transforms.pyc\u001b[0m in \u001b[0;36mget_transformed_points_and_affine\u001b[0;34m(self)\u001b[0m\n\u001b[1;32m   2632\u001b[0m         \u001b[0mbe\u001b[0m \u001b[0mperformed\u001b[0m\u001b[0;34m.\u001b[0m\u001b[0;34m\u001b[0m\u001b[0m\n\u001b[1;32m   2633\u001b[0m         \"\"\"\n\u001b[0;32m-> 2634\u001b[0;31m         \u001b[0mself\u001b[0m\u001b[0;34m.\u001b[0m\u001b[0m_revalidate\u001b[0m\u001b[0;34m(\u001b[0m\u001b[0;34m)\u001b[0m\u001b[0;34m\u001b[0m\u001b[0m\n\u001b[0m\u001b[1;32m   2635\u001b[0m         \u001b[0;32mreturn\u001b[0m \u001b[0mself\u001b[0m\u001b[0;34m.\u001b[0m\u001b[0m_transformed_points\u001b[0m\u001b[0;34m,\u001b[0m \u001b[0mself\u001b[0m\u001b[0;34m.\u001b[0m\u001b[0mget_affine\u001b[0m\u001b[0;34m(\u001b[0m\u001b[0;34m)\u001b[0m\u001b[0;34m\u001b[0m\u001b[0m\n\u001b[1;32m   2636\u001b[0m \u001b[0;34m\u001b[0m\u001b[0m\n",
      "\u001b[0;32m/Users/soslab/anaconda/lib/python2.7/site-packages/matplotlib/transforms.pyc\u001b[0m in \u001b[0;36m_revalidate\u001b[0;34m(self)\u001b[0m\n\u001b[1;32m   2618\u001b[0m             or self._transformed_path is None):\n\u001b[1;32m   2619\u001b[0m             \u001b[0mself\u001b[0m\u001b[0;34m.\u001b[0m\u001b[0m_transformed_path\u001b[0m \u001b[0;34m=\u001b[0m\u001b[0;31m \u001b[0m\u001b[0;31m\\\u001b[0m\u001b[0;34m\u001b[0m\u001b[0m\n\u001b[0;32m-> 2620\u001b[0;31m                 \u001b[0mself\u001b[0m\u001b[0;34m.\u001b[0m\u001b[0m_transform\u001b[0m\u001b[0;34m.\u001b[0m\u001b[0mtransform_path_non_affine\u001b[0m\u001b[0;34m(\u001b[0m\u001b[0mself\u001b[0m\u001b[0;34m.\u001b[0m\u001b[0m_path\u001b[0m\u001b[0;34m)\u001b[0m\u001b[0;34m\u001b[0m\u001b[0m\n\u001b[0m\u001b[1;32m   2621\u001b[0m             \u001b[0mself\u001b[0m\u001b[0;34m.\u001b[0m\u001b[0m_transformed_points\u001b[0m \u001b[0;34m=\u001b[0m\u001b[0;31m \u001b[0m\u001b[0;31m\\\u001b[0m\u001b[0;34m\u001b[0m\u001b[0m\n\u001b[1;32m   2622\u001b[0m                 Path(self._transform.transform_non_affine(self._path.vertices),\n",
      "\u001b[0;32m/Users/soslab/anaconda/lib/python2.7/site-packages/matplotlib/transforms.pyc\u001b[0m in \u001b[0;36mtransform_path_non_affine\u001b[0;34m(self, path)\u001b[0m\n\u001b[1;32m   1414\u001b[0m         \"\"\"\n\u001b[1;32m   1415\u001b[0m         return Path(self.transform_non_affine(path.vertices), path.codes,\n\u001b[0;32m-> 1416\u001b[0;31m                     path._interpolation_steps)\n\u001b[0m\u001b[1;32m   1417\u001b[0m \u001b[0;34m\u001b[0m\u001b[0m\n\u001b[1;32m   1418\u001b[0m     \u001b[0;32mdef\u001b[0m \u001b[0mtransform_angles\u001b[0m\u001b[0;34m(\u001b[0m\u001b[0mself\u001b[0m\u001b[0;34m,\u001b[0m \u001b[0mangles\u001b[0m\u001b[0;34m,\u001b[0m \u001b[0mpts\u001b[0m\u001b[0;34m,\u001b[0m \u001b[0mradians\u001b[0m\u001b[0;34m=\u001b[0m\u001b[0mFalse\u001b[0m\u001b[0;34m,\u001b[0m \u001b[0mpushoff\u001b[0m\u001b[0;34m=\u001b[0m\u001b[0;36m1e-5\u001b[0m\u001b[0;34m)\u001b[0m\u001b[0;34m:\u001b[0m\u001b[0;34m\u001b[0m\u001b[0m\n",
      "\u001b[0;32m/Users/soslab/anaconda/lib/python2.7/site-packages/matplotlib/path.pyc\u001b[0m in \u001b[0;36m__init__\u001b[0;34m(self, vertices, codes, _interpolation_steps, closed, readonly)\u001b[0m\n\u001b[1;32m    149\u001b[0m             \u001b[0mcodes\u001b[0m\u001b[0;34m[\u001b[0m\u001b[0;34m-\u001b[0m\u001b[0;36m1\u001b[0m\u001b[0;34m]\u001b[0m \u001b[0;34m=\u001b[0m \u001b[0mself\u001b[0m\u001b[0;34m.\u001b[0m\u001b[0mCLOSEPOLY\u001b[0m\u001b[0;34m\u001b[0m\u001b[0m\n\u001b[1;32m    150\u001b[0m \u001b[0;34m\u001b[0m\u001b[0m\n\u001b[0;32m--> 151\u001b[0;31m         \u001b[0;32massert\u001b[0m \u001b[0mvertices\u001b[0m\u001b[0;34m.\u001b[0m\u001b[0mndim\u001b[0m \u001b[0;34m==\u001b[0m \u001b[0;36m2\u001b[0m\u001b[0;34m\u001b[0m\u001b[0m\n\u001b[0m\u001b[1;32m    152\u001b[0m         \u001b[0;32massert\u001b[0m \u001b[0mvertices\u001b[0m\u001b[0;34m.\u001b[0m\u001b[0mshape\u001b[0m\u001b[0;34m[\u001b[0m\u001b[0;36m1\u001b[0m\u001b[0;34m]\u001b[0m \u001b[0;34m==\u001b[0m \u001b[0;36m2\u001b[0m\u001b[0;34m\u001b[0m\u001b[0m\n\u001b[1;32m    153\u001b[0m \u001b[0;34m\u001b[0m\u001b[0m\n",
      "\u001b[0;31mKeyboardInterrupt\u001b[0m: "
     ]
    },
    {
     "ename": "KeyboardInterrupt",
     "evalue": "",
     "output_type": "error",
     "traceback": [
      "Traceback (most recent call last):\n",
      "  File \"/Users/soslab/anaconda/lib/python2.7/site-packages/ipykernel/ipkernel.py\", line 175, in do_execute\n    shell.run_cell(code, store_history=store_history, silent=silent)\n",
      "  File \"/Users/soslab/anaconda/lib/python2.7/site-packages/IPython/core/interactiveshell.py\", line 2908, in run_cell\n    self.events.trigger('post_execute')\n",
      "  File \"/Users/soslab/anaconda/lib/python2.7/site-packages/IPython/core/events.py\", line 74, in trigger\n    func(*args, **kwargs)\n",
      "  File \"/Users/soslab/anaconda/lib/python2.7/site-packages/ipykernel/pylab/backend_inline.py\", line 109, in flush_figures\n    return show(True)\n",
      "  File \"/Users/soslab/anaconda/lib/python2.7/site-packages/ipykernel/pylab/backend_inline.py\", line 32, in show\n    display(figure_manager.canvas.figure)\n",
      "  File \"/Users/soslab/anaconda/lib/python2.7/site-packages/IPython/core/display.py\", line 159, in display\n    format_dict, md_dict = format(obj, include=include, exclude=exclude)\n",
      "  File \"/Users/soslab/anaconda/lib/python2.7/site-packages/IPython/core/formatters.py\", line 175, in format\n    data = formatter(obj)\n",
      "  File \"<string>\", line 2, in __call__\n",
      "  File \"/Users/soslab/anaconda/lib/python2.7/site-packages/IPython/core/formatters.py\", line 220, in catch_format_error\n    r = method(self, *args, **kwargs)\n",
      "  File \"/Users/soslab/anaconda/lib/python2.7/site-packages/IPython/core/formatters.py\", line 337, in __call__\n    return printer(obj)\n",
      "  File \"/Users/soslab/anaconda/lib/python2.7/site-packages/IPython/core/pylabtools.py\", line 207, in <lambda>\n    png_formatter.for_type(Figure, lambda fig: print_figure(fig, 'png', **kwargs))\n",
      "  File \"/Users/soslab/anaconda/lib/python2.7/site-packages/IPython/core/pylabtools.py\", line 117, in print_figure\n    fig.canvas.print_figure(bytes_io, **kw)\n",
      "  File \"/Users/soslab/anaconda/lib/python2.7/site-packages/matplotlib/backend_bases.py\", line 2158, in print_figure\n    **kwargs)\n",
      "  File \"/Users/soslab/anaconda/lib/python2.7/site-packages/matplotlib/backends/backend_agg.py\", line 521, in print_png\n    FigureCanvasAgg.draw(self)\n",
      "  File \"/Users/soslab/anaconda/lib/python2.7/site-packages/matplotlib/backends/backend_agg.py\", line 469, in draw\n    self.figure.draw(self.renderer)\n",
      "  File \"/Users/soslab/anaconda/lib/python2.7/site-packages/matplotlib/artist.py\", line 59, in draw_wrapper\n    draw(artist, renderer, *args, **kwargs)\n",
      "  File \"/Users/soslab/anaconda/lib/python2.7/site-packages/matplotlib/figure.py\", line 1085, in draw\n    func(*args)\n",
      "  File \"/Users/soslab/anaconda/lib/python2.7/site-packages/matplotlib/artist.py\", line 59, in draw_wrapper\n    draw(artist, renderer, *args, **kwargs)\n",
      "  File \"/Users/soslab/anaconda/lib/python2.7/site-packages/matplotlib/axes/_base.py\", line 2110, in draw\n    a.draw(renderer)\n",
      "  File \"/Users/soslab/anaconda/lib/python2.7/site-packages/matplotlib/artist.py\", line 59, in draw_wrapper\n    draw(artist, renderer, *args, **kwargs)\n",
      "  File \"/Users/soslab/anaconda/lib/python2.7/site-packages/matplotlib/axis.py\", line 1116, in draw\n    renderer)\n",
      "  File \"/Users/soslab/anaconda/lib/python2.7/site-packages/matplotlib/axis.py\", line 1065, in _get_tick_bboxes\n    extent = tick.label1.get_window_extent(renderer)\n",
      "  File \"/Users/soslab/anaconda/lib/python2.7/site-packages/matplotlib/text.py\", line 800, in get_window_extent\n    x, y = self.get_transform().transform_point((x, y))\n",
      "  File \"/Users/soslab/anaconda/lib/python2.7/site-packages/matplotlib/transforms.py\", line 1380, in transform_point\n    return self.transform(np.asarray([point]))[0]\n",
      "  File \"/Users/soslab/anaconda/lib/python2.7/site-packages/matplotlib/transforms.py\", line 1291, in transform\n    res = self.transform_affine(self.transform_non_affine(values))\n",
      "  File \"/Users/soslab/anaconda/lib/python2.7/site-packages/matplotlib/transforms.py\", line 2298, in transform_non_affine\n    return self._a.transform_non_affine(points)\n",
      "  File \"/Users/soslab/anaconda/lib/python2.7/site-packages/matplotlib/transforms.py\", line 2083, in transform_non_affine\n    x_points = x.transform_non_affine(points)[:, 0:1]\n",
      "  File \"/Users/soslab/anaconda/lib/python2.7/site-packages/matplotlib/transforms.py\", line 2298, in transform_non_affine\n    return self._a.transform_non_affine(points)\n",
      "KeyboardInterrupt\n"
     ]
    }
   ],
   "source": [
    "t_final = 100.\n",
    "fits = pd.read_csv(steadystate_filename, index_col=0, header=[0,1])\n",
    "trajectories = []\n",
    "doseresponses = []\n",
    "for index, row in fits.iterrows():\n",
    "    a = row['a']\n",
    "    k = row['k']\n",
    "    b1, b2 = row['b']\n",
    "    u = row['u']\n",
    "    n = float(row['n'])\n",
    "    a = list(a)\n",
    "    k = list(k)\n",
    "    u = u[0]\n",
    "    traj = ssModel(exp_dose.index, a, k, b2, u, n)\n",
    "    display.clear_output(wait=True)\n",
    "    plt.xscale('log')\n",
    "    traj.plot()\n",
    "    #display.display(row)\n",
    "    display.display(plt.gcf())"
   ]
  },
  {
   "cell_type": "code",
   "execution_count": 163,
   "metadata": {
    "collapsed": false
   },
   "outputs": [],
   "source": [
    "import glob\n",
    "scripts = os.path.join(datafolder, \"151007_hyakfittingscripts\", \"output_fittingscript_kinetics_100715\")\n",
    "files = glob.glob(os.path.join(scripts, \"*.csv\"))\n",
    "best = []\n",
    "df = None\n",
    "for f in files:\n",
    "    df = pd.read_csv(f, header=[0,1], index_col=0)\n",
    "    lastrow = df.iloc[-1]\n",
    "    best.append(lastrow)\n",
    "best = pd.DataFrame(best)\n",
    "best = best.reset_index()\n",
    "best.to_csv(os.path.join(hyakfolder, \"bestfits_kinetics_new_indexed.csv\"))"
   ]
  },
  {
   "cell_type": "code",
   "execution_count": null,
   "metadata": {
    "collapsed": true
   },
   "outputs": [],
   "source": []
  }
 ],
 "metadata": {
  "kernelspec": {
   "display_name": "Python 2",
   "language": "python",
   "name": "python2"
  },
  "language_info": {
   "codemirror_mode": {
    "name": "ipython",
    "version": 2
   },
   "file_extension": ".py",
   "mimetype": "text/x-python",
   "name": "python",
   "nbconvert_exporter": "python",
   "pygments_lexer": "ipython2",
   "version": "2.7.10"
  }
 },
 "nbformat": 4,
 "nbformat_minor": 0
}
